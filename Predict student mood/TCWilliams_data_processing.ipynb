{
 "cells": [
  {
   "cell_type": "code",
   "execution_count": 43,
   "metadata": {},
   "outputs": [],
   "source": [
    "import pandas as pd\n",
    "import matplotlib.pyplot as plt\n",
    "import numpy as np\n",
    "%matplotlib inline"
   ]
  },
  {
   "cell_type": "markdown",
   "metadata": {},
   "source": [
    " ## 1. Process mood data"
   ]
  },
  {
   "cell_type": "code",
   "execution_count": 71,
   "metadata": {
    "scrolled": true
   },
   "outputs": [],
   "source": [
    "#response_data = pd.read_excel(\"Survey-curated-peng.xlsx\", sheet_name = \"Response data\",index_col = 0)\n",
    "response = pd.read_excel(\"Survey-Curated-delete-bottom-bin.xlsx\", sheet_name = \"Response data\")"
   ]
  },
  {
   "cell_type": "code",
   "execution_count": 72,
   "metadata": {},
   "outputs": [],
   "source": [
    "mood_df = response.drop(columns=[\"Day_track\",\"Total Steps\", \"Active Seconds\", \"Highly Active Seconds\"], axis=1)"
   ]
  },
  {
   "cell_type": "code",
   "execution_count": 73,
   "metadata": {},
   "outputs": [
    {
     "data": {
      "text/plain": [
       "(527, 44)"
      ]
     },
     "execution_count": 73,
     "metadata": {},
     "output_type": "execute_result"
    }
   ],
   "source": [
    "mood_df.shape"
   ]
  },
  {
   "cell_type": "markdown",
   "metadata": {},
   "source": [
    "## Need to covert object of \"Date\" to datetime"
   ]
  },
  {
   "cell_type": "code",
   "execution_count": 47,
   "metadata": {},
   "outputs": [],
   "source": [
    "mood_df[\"Date\"] = pd.to_datetime(mood_df[\"Date\"],errors='coerce')"
   ]
  },
  {
   "cell_type": "code",
   "execution_count": 48,
   "metadata": {
    "scrolled": true
   },
   "outputs": [],
   "source": [
    "\"\"\" \n",
    "1. Generate an integer-represented weekday column from the column of date to day_track columns\n",
    "2. Delete the sparse columns of Total steps, Active Seconds, and Highly Active Seconds\n",
    "Keep in mind: that Monday = 0, Sunday=6 in pandas dt weekday_name\n",
    "\"\"\"\n",
    "# convert datetime format into numberical weekday\n",
    "mood_df['Date'] = mood_df[\"Date\"].dt.weekday\n",
    "# rename the column of Date as Weekday\n",
    "mood_df = mood_df.rename(columns={'Date': \"Weekday\"})\n",
    "#mood_df.head()"
   ]
  },
  {
   "cell_type": "code",
   "execution_count": 49,
   "metadata": {
    "scrolled": true
   },
   "outputs": [],
   "source": [
    "\"\"\"\n",
    "Take a look at the processed data one more time.\n",
    "find many columns have the max value as 99 which means missing, therefore replace 99 with NaN\n",
    "\"\"\"\n",
    "mood_df = mood_df.replace(99, np.NaN)"
   ]
  },
  {
   "cell_type": "code",
   "execution_count": 50,
   "metadata": {
    "scrolled": true
   },
   "outputs": [
    {
     "data": {
      "text/plain": [
       "Breakfast_Snacks                    1.000000\n",
       "Additional_Red Meat Protein         0.984820\n",
       "Lunch_Caffeinated Beverages         0.960152\n",
       "Dinner_Caffeinated Beverages        0.952562\n",
       "Breakfast_Vegetables                0.939279\n",
       "Breakfast_Caffeinated Beverages     0.937381\n",
       "Additional_Other Protein            0.935484\n",
       "Dinner_Fruits                       0.929791\n",
       "Breakfast_Red Meat Protein          0.908918\n",
       "Additional_Caffeinated Beverages    0.899431\n",
       "Additional_Vegetables               0.888046\n",
       "Additional_Fruits                   0.876660\n",
       "Additional_Dairy                    0.851992\n",
       "Lunch_Red Meat Protein              0.842505\n",
       "Dinner_Snacks                       0.834915\n",
       "Breakfast_Fruits                    0.802657\n",
       "Lunch_Fruits                        0.798861\n",
       "Breakfast_Other Protein             0.783681\n",
       "Breakfast_Dairy                     0.768501\n",
       "Lunch_Snacks                        0.738140\n",
       "Dinner_Red Meat Protein             0.721063\n",
       "Lunch_Dairy                         0.705882\n",
       "Dinner_Dairy                        0.666034\n",
       "Lunch_Other Protein                 0.618596\n",
       "Dinner_Other Protein                0.611006\n",
       "Lunch_Vegetables                    0.571157\n",
       "Additional_Grains                   0.555977\n",
       "Additional_Snacks                   0.495256\n",
       "Dinner_Vegetables                   0.444023\n",
       "Lunch_Grains                        0.383302\n",
       "Dinner_Grains                       0.339658\n",
       "Breakfast_Grains                    0.320683\n",
       "Water_oz                            0.053131\n",
       "Trouble in staying asleep           0.047438\n",
       "Trouble in falling sleep            0.047438\n",
       "Feeling of slept                    0.047438\n",
       "Dinner_time                         0.047438\n",
       "Evening_mood                        0.026565\n",
       "Afternoon_mood                      0.022770\n",
       "Lunch_time                          0.020873\n",
       "Morning_mood                        0.013283\n",
       "Breakfast_time                      0.011385\n",
       "Weekday                             0.000000\n",
       "Internal Study ID                   0.000000\n",
       "dtype: float64"
      ]
     },
     "execution_count": 50,
     "metadata": {},
     "output_type": "execute_result"
    }
   ],
   "source": [
    "mood_df.isnull().mean().sort_values(ascending=False)"
   ]
  },
  {
   "cell_type": "code",
   "execution_count": 51,
   "metadata": {},
   "outputs": [
    {
     "name": "stdout",
     "output_type": "stream",
     "text": [
      "(527, 34)\n"
     ]
    }
   ],
   "source": [
    "\"\"\"\n",
    "drop columns of Breakfast_Snacks, all Beverages features, \n",
    "and those contains missing values more than 90% because they are not using for training;\n",
    "\n",
    "\"\"\"\n",
    "\n",
    "mood_df = mood_df.dropna(thresh=len(mood_df)*0.11, axis='columns')\n",
    "print(mood_df.shape)"
   ]
  },
  {
   "cell_type": "code",
   "execution_count": 52,
   "metadata": {
    "scrolled": true
   },
   "outputs": [
    {
     "data": {
      "text/plain": [
       "Index(['Internal Study ID', 'Weekday', 'Morning_mood', 'Afternoon_mood',\n",
       "       'Evening_mood', 'Breakfast_time', 'Lunch_time', 'Dinner_time',\n",
       "       'Water_oz', 'Feeling of slept', 'Trouble in falling sleep',\n",
       "       'Trouble in staying asleep', 'Breakfast_Fruits', 'Breakfast_Grains',\n",
       "       'Breakfast_Other Protein', 'Breakfast_Dairy', 'Lunch_Fruits',\n",
       "       'Lunch_Vegetables', 'Lunch_Grains', 'Lunch_Red Meat Protein',\n",
       "       'Lunch_Other Protein', 'Lunch_Dairy', 'Lunch_Snacks',\n",
       "       'Dinner_Vegetables', 'Dinner_Grains', 'Dinner_Red Meat Protein',\n",
       "       'Dinner_Other Protein', 'Dinner_Dairy', 'Dinner_Snacks',\n",
       "       'Additional_Fruits', 'Additional_Vegetables', 'Additional_Grains',\n",
       "       'Additional_Dairy', 'Additional_Snacks'],\n",
       "      dtype='object')"
      ]
     },
     "execution_count": 52,
     "metadata": {},
     "output_type": "execute_result"
    }
   ],
   "source": [
    "mood_df.columns"
   ]
  },
  {
   "cell_type": "code",
   "execution_count": 53,
   "metadata": {},
   "outputs": [
    {
     "data": {
      "text/plain": [
       "Additional_Vegetables        0.888046\n",
       "Additional_Fruits            0.876660\n",
       "Additional_Dairy             0.851992\n",
       "Lunch_Red Meat Protein       0.842505\n",
       "Dinner_Snacks                0.834915\n",
       "Breakfast_Fruits             0.802657\n",
       "Lunch_Fruits                 0.798861\n",
       "Breakfast_Other Protein      0.783681\n",
       "Breakfast_Dairy              0.768501\n",
       "Lunch_Snacks                 0.738140\n",
       "Dinner_Red Meat Protein      0.721063\n",
       "Lunch_Dairy                  0.705882\n",
       "Dinner_Dairy                 0.666034\n",
       "Lunch_Other Protein          0.618596\n",
       "Dinner_Other Protein         0.611006\n",
       "Lunch_Vegetables             0.571157\n",
       "Additional_Grains            0.555977\n",
       "Additional_Snacks            0.495256\n",
       "Dinner_Vegetables            0.444023\n",
       "Lunch_Grains                 0.383302\n",
       "Dinner_Grains                0.339658\n",
       "Breakfast_Grains             0.320683\n",
       "Water_oz                     0.053131\n",
       "Trouble in staying asleep    0.047438\n",
       "Trouble in falling sleep     0.047438\n",
       "Feeling of slept             0.047438\n",
       "Dinner_time                  0.047438\n",
       "Evening_mood                 0.026565\n",
       "Afternoon_mood               0.022770\n",
       "Lunch_time                   0.020873\n",
       "Morning_mood                 0.013283\n",
       "Breakfast_time               0.011385\n",
       "Weekday                      0.000000\n",
       "Internal Study ID            0.000000\n",
       "dtype: float64"
      ]
     },
     "execution_count": 53,
     "metadata": {},
     "output_type": "execute_result"
    }
   ],
   "source": [
    "mood_df.isnull().mean().sort_values(ascending=False)"
   ]
  },
  {
   "cell_type": "markdown",
   "metadata": {},
   "source": [
    "### Fill NaN with either 0 or mode"
   ]
  },
  {
   "cell_type": "code",
   "execution_count": 54,
   "metadata": {},
   "outputs": [],
   "source": [
    "\"\"\"\n",
    "Fill NaN as 0 for the columns of food types, because these 0 are meaningful\n",
    "\n",
    "\"\"\"\n",
    "\n",
    "name_food = ['Breakfast_Fruits', 'Breakfast_Grains',\n",
    "       'Breakfast_Other Protein', 'Breakfast_Dairy', 'Lunch_Fruits',\n",
    "       'Lunch_Vegetables', 'Lunch_Grains', 'Lunch_Red Meat Protein',\n",
    "       'Lunch_Other Protein', 'Lunch_Dairy', 'Lunch_Snacks',\n",
    "       'Dinner_Vegetables', 'Dinner_Grains', 'Dinner_Red Meat Protein',\n",
    "       'Dinner_Other Protein', 'Dinner_Dairy', 'Dinner_Snacks',\n",
    "       'Additional_Fruits', 'Additional_Vegetables', 'Additional_Grains',\n",
    "       'Additional_Dairy', 'Additional_Snacks']\n",
    "\n",
    "for name in name_food:\n",
    "    value = mood_df[name].fillna(0)\n",
    "    mood_df.loc[:, name] = value"
   ]
  },
  {
   "cell_type": "code",
   "execution_count": 55,
   "metadata": {},
   "outputs": [
    {
     "data": {
      "text/plain": [
       "Water_oz                     0.053131\n",
       "Dinner_time                  0.047438\n",
       "Feeling of slept             0.047438\n",
       "Trouble in falling sleep     0.047438\n",
       "Trouble in staying asleep    0.047438\n",
       "Evening_mood                 0.026565\n",
       "Afternoon_mood               0.022770\n",
       "Lunch_time                   0.020873\n",
       "Morning_mood                 0.013283\n",
       "Breakfast_time               0.011385\n",
       "dtype: float64"
      ]
     },
     "execution_count": 55,
     "metadata": {},
     "output_type": "execute_result"
    }
   ],
   "source": [
    "mood_df.isnull().mean().sort_values(ascending=False)[:10]"
   ]
  },
  {
   "cell_type": "code",
   "execution_count": 56,
   "metadata": {},
   "outputs": [],
   "source": [
    "\"\"\"\n",
    "Fill NaN use its mode values for the other columns\n",
    "\"\"\"\n",
    "\n",
    "# replace NaN with mode\n",
    "name_others = ['Weekday','Morning_mood', 'Afternoon_mood',\n",
    "       'Evening_mood', 'Breakfast_time', 'Lunch_time', 'Dinner_time',\n",
    "       'Water_oz', 'Feeling of slept', 'Trouble in falling sleep',\n",
    "       'Trouble in staying asleep']\n",
    "    \n",
    "for name in name_others:\n",
    "    fill_value = mood_df[name].mode()[0]\n",
    "    mood_df.loc[:, name] = mood_df.loc[:, name].fillna(fill_value)"
   ]
  },
  {
   "cell_type": "code",
   "execution_count": 57,
   "metadata": {},
   "outputs": [
    {
     "data": {
      "text/plain": [
       "Additional_Snacks            0.0\n",
       "Water_oz                     0.0\n",
       "Breakfast_Other Protein      0.0\n",
       "Breakfast_Grains             0.0\n",
       "Breakfast_Fruits             0.0\n",
       "Trouble in staying asleep    0.0\n",
       "Trouble in falling sleep     0.0\n",
       "Feeling of slept             0.0\n",
       "Dinner_time                  0.0\n",
       "Additional_Dairy             0.0\n",
       "dtype: float64"
      ]
     },
     "execution_count": 57,
     "metadata": {},
     "output_type": "execute_result"
    }
   ],
   "source": [
    "mood_df.isnull().mean().sort_values(ascending=False)[:10]"
   ]
  },
  {
   "cell_type": "markdown",
   "metadata": {},
   "source": [
    "### Convert float to integer for the sake of convertion to categorical using OneHotEncoder\n",
    "This need to be done after fill nan because python cannot convert NA or inf to integer"
   ]
  },
  {
   "cell_type": "code",
   "execution_count": 58,
   "metadata": {},
   "outputs": [],
   "source": [
    "\"\"\"\n",
    "Convert all numberic columns into integer\n",
    "(this need to be done after fill NaN\n",
    "becasue paython cannot convert non-finite values (NA or inf) to integer)\n",
    "\n",
    "\"\"\"\n",
    "mood_df = mood_df.astype('int64')"
   ]
  },
  {
   "cell_type": "code",
   "execution_count": 59,
   "metadata": {},
   "outputs": [],
   "source": [
    "#mood_df3.head()"
   ]
  },
  {
   "cell_type": "code",
   "execution_count": 60,
   "metadata": {},
   "outputs": [
    {
     "data": {
      "text/plain": [
       "array([[<matplotlib.axes._subplots.AxesSubplot object at 0x11a609278>,\n",
       "        <matplotlib.axes._subplots.AxesSubplot object at 0x11a9e48d0>,\n",
       "        <matplotlib.axes._subplots.AxesSubplot object at 0x11a683da0>,\n",
       "        <matplotlib.axes._subplots.AxesSubplot object at 0x11aa52390>,\n",
       "        <matplotlib.axes._subplots.AxesSubplot object at 0x11aab8940>,\n",
       "        <matplotlib.axes._subplots.AxesSubplot object at 0x11acf5ef0>],\n",
       "       [<matplotlib.axes._subplots.AxesSubplot object at 0x11acd14e0>,\n",
       "        <matplotlib.axes._subplots.AxesSubplot object at 0x11ace6ac8>,\n",
       "        <matplotlib.axes._subplots.AxesSubplot object at 0x11ace6b00>,\n",
       "        <matplotlib.axes._subplots.AxesSubplot object at 0x11b01a5f8>,\n",
       "        <matplotlib.axes._subplots.AxesSubplot object at 0x11b04aba8>,\n",
       "        <matplotlib.axes._subplots.AxesSubplot object at 0x11b086198>],\n",
       "       [<matplotlib.axes._subplots.AxesSubplot object at 0x11b0b8748>,\n",
       "        <matplotlib.axes._subplots.AxesSubplot object at 0x11b0ebcf8>,\n",
       "        <matplotlib.axes._subplots.AxesSubplot object at 0x11b1292e8>,\n",
       "        <matplotlib.axes._subplots.AxesSubplot object at 0x11b158898>,\n",
       "        <matplotlib.axes._subplots.AxesSubplot object at 0x11b189e48>,\n",
       "        <matplotlib.axes._subplots.AxesSubplot object at 0x11b1c5438>],\n",
       "       [<matplotlib.axes._subplots.AxesSubplot object at 0x11b1f59e8>,\n",
       "        <matplotlib.axes._subplots.AxesSubplot object at 0x11b229f98>,\n",
       "        <matplotlib.axes._subplots.AxesSubplot object at 0x11b264588>,\n",
       "        <matplotlib.axes._subplots.AxesSubplot object at 0x11b297b38>,\n",
       "        <matplotlib.axes._subplots.AxesSubplot object at 0x11b2d5128>,\n",
       "        <matplotlib.axes._subplots.AxesSubplot object at 0x11b3036d8>],\n",
       "       [<matplotlib.axes._subplots.AxesSubplot object at 0x11b336c88>,\n",
       "        <matplotlib.axes._subplots.AxesSubplot object at 0x11b374278>,\n",
       "        <matplotlib.axes._subplots.AxesSubplot object at 0x11b3a2828>,\n",
       "        <matplotlib.axes._subplots.AxesSubplot object at 0x11b3d6dd8>,\n",
       "        <matplotlib.axes._subplots.AxesSubplot object at 0x11b4123c8>,\n",
       "        <matplotlib.axes._subplots.AxesSubplot object at 0x11b444978>],\n",
       "       [<matplotlib.axes._subplots.AxesSubplot object at 0x11b476f28>,\n",
       "        <matplotlib.axes._subplots.AxesSubplot object at 0x11b4b3518>,\n",
       "        <matplotlib.axes._subplots.AxesSubplot object at 0x11b4e2ac8>,\n",
       "        <matplotlib.axes._subplots.AxesSubplot object at 0x11b5210b8>,\n",
       "        <matplotlib.axes._subplots.AxesSubplot object at 0x11b554668>,\n",
       "        <matplotlib.axes._subplots.AxesSubplot object at 0x11b581c18>]],\n",
       "      dtype=object)"
      ]
     },
     "execution_count": 60,
     "metadata": {},
     "output_type": "execute_result"
    },
    {
     "data": {
      "image/png": "[encoded data removed]",
      "text/plain": [
       "<Figure size 1296x1152 with 36 Axes>"
      ]
     },
     "metadata": {
      "needs_background": "light"
     },
     "output_type": "display_data"
    }
   ],
   "source": [
    "mood_df.hist(figsize=(18,16))"
   ]
  },
  {
   "cell_type": "code",
   "execution_count": 61,
   "metadata": {
    "scrolled": true
   },
   "outputs": [],
   "source": [
    "#import pandas_profiling\n",
    "#profile = pandas_profiling.ProfileReport(mood_df3)\n",
    "#profile.to_file(output_file=\"TCM_mood.html\")"
   ]
  },
  {
   "cell_type": "markdown",
   "metadata": {},
   "source": [
    "### Export the data as \"mood_cleaned.csv\"\n",
    "\n",
    "moo_cleaned.csv:   drop some columns, fill na with 0 or mode"
   ]
  },
  {
   "cell_type": "code",
   "execution_count": 62,
   "metadata": {},
   "outputs": [],
   "source": [
    "mood_df.to_csv(\"mood_cleaned.csv\", header=True, index=None)"
   ]
  },
  {
   "cell_type": "markdown",
   "metadata": {},
   "source": [
    "### Add the column: next_morning_mood and export it as \"next_morning_mood.csv\""
   ]
  },
  {
   "cell_type": "code",
   "execution_count": 63,
   "metadata": {},
   "outputs": [],
   "source": [
    "mood_df_indexed=mood_df.set_index('Internal Study ID')"
   ]
  },
  {
   "cell_type": "code",
   "execution_count": 64,
   "metadata": {},
   "outputs": [
    {
     "name": "stdout",
     "output_type": "stream",
     "text": [
      "student_id [ 511 7886 1682 5195 5458 9122 5936 1400 5049 2786 3062  613 7548 6117\n",
      " 1644 4944 7631 6292 7774 1270 3423 1127 7887 5912 9095]\n",
      "next_morning_mood [4, 4, 3, 3, 4, 3, 3, 5, 5, 4, 4, 4, 3, 3, 3, 3, 4, 4, 5, 3, 3, 3, 4, 4, 4, 4, 5, 4, 3, 3, 3, 4, 3, 3, 3, 3, 3, 3, 3, 3, 2, 2, 3, 1, 2, 1, 3, 5, 5, 5, 5, 5, 2, 2, 4, 3, 3, 2, 1, 3, 2, 2, 2, 3, 2, 1, 1, 1, 1, 3, 4, 4, 2, 2, 2, 4, 4, 4, 4, 1, 5, 1, 3, 3, 2, 1, 2, 2, 3, 1, 2, 1, 1, 1, 1, 5, 2, 5, 4, 4, 4, 4, 5, 5, 5, 5, 5, 5, 5, 5, 5, 5, 5, 5, 5, 3, 4, 4, 4, 3, 3, 3, 3, 2, 3, 4, 4, 4, 4, 4, 4, 3, 3, 4, 2, 3, 3, 3, 3, 3, 3, 1, 3, 2, 3, 4, 4, 4, 3, 4, 1, 3, 3, 2, 3, 4, 4, 4, 4, 3, 4, 3, 3, 4, 4, 4, 4, 4, 4, 5, 4, 5, 5, 5, 4, 4, 5, 4, 4, 3, 4, 4, 4, 4, 5, 4, 5, 4, 3, 3, 3, 4, 3, 4, 4, 5, 4, 4, 4, 4, 4, 4, 3, 3, 4, 4, 4, 3, 3, 4, 4, 3, 3, 3, 3, 3, 3, 3, 3, 2, 2, 3, 3, 3, 3, 3, 3, 3, 3, 3, 3, 1, 5, 3, 2, 3, 1, 2, 4, 3, 3, 3, 5, 2, 2, 2, 4, 5, 2, 4, 2, 2, 3, 3, 4, 4, 3, 2, 4, 3, 3, 3, 3, 3, 3, 3, 3, 3, 3, 4, 4, 4, 4, 5, 4, 3, 4, 3, 4, 4, 3, 3, 4, 3, 3, 3, 2, 3, 4, 4, 3, 3, 2, 4, 3, 2, 3, 3, 4, 4, 4, 4, 3, 3, 3, 3, 3, 3, 3, 3, 4, 3, 3, 4, 3, 3, 4, 4, 2, 4, 3, 3, 4, 5, 3, 3, 5, 4, 5, 2, 4, 3, 4, 4, 3, 5, 4, 4, 4, 5, 4, 2, 3, 1, 3, 4, 4, 2, 2, 1, 2, 4, 4, 3, 3, 3, 2, 2, 1, 3, 4, 3, 4, 2, 4, 3, 3, 3, 3, 3, 4, 4, 4, 3, 2, 3, 3, 3, 3, 3, 3, 3, 4, 3, 1, 2, 3, 2, 3, 2, 4, 4, 2, 3, 3, 4, 1, 3, 4, 1, 3, 1, 2, 4, 3, 5, 2, 3, 2, 3, 4, 3, 3, 4, 3, 2, 4, 2, 3, 3, 3, 3, 4, 5, 2, 4, 5, 3, 3, 5, 5, 5, 5, 2, 3, 2, 2, 3, 1, 3, 2, 3, 1, 1, 2, 4, 1, 4, 2, 4, 5, 5, 2, 3, 2, 5, 4, 3, 4, 3, 2, 2, 3, 3, 3, 2, 3, 3, 3, 3, 3, 2, 3, 2, 3, 3, 2, 2, 3, 3, 3, 3, 3, 3, 4, 3, 5, 2, 5, 5, 3, 2, 2, 5, 3, 2, 3, 4, 4, 2, 3, 4, 4, 3, 4, 1, 3, 3, 1, 2, 4, 1, 4, 1, 3, 3, 4, 4, 1, 3, 3, 2, 4, 3, 4, 5, 5]\n"
     ]
    }
   ],
   "source": [
    "# there are 25 unique students\n",
    "\n",
    "#student_id = mood_df2['Internal Study ID'].unique()\n",
    "next_morning_mood =[]\n",
    "student_id = mood_df_indexed.index.unique().values\n",
    "print('student_id', student_id)\n",
    "for i in student_id:\n",
    "    mood = mood_df_indexed.loc[i, 'Morning_mood'].values\n",
    "    individual_mood = [np.median(mood)]* len(mood)\n",
    "    for j in range(len(mood)):\n",
    "        individual_mood[j] = mood[j-1]\n",
    "        #print(individual_mood[j], end=' ')\n",
    "    next_morning_mood = next_morning_mood + individual_mood\n",
    "print('next_morning_mood', next_morning_mood)"
   ]
  },
  {
   "cell_type": "code",
   "execution_count": 65,
   "metadata": {},
   "outputs": [],
   "source": [
    "\"\"\"\n",
    "add the new column of next_morning_mood into the original mood_df3 dataframe\n",
    "\"\"\"\n",
    "\n",
    "mood_df['Next_morning_mood'] = next_morning_mood"
   ]
  },
  {
   "cell_type": "code",
   "execution_count": 66,
   "metadata": {
    "scrolled": true
   },
   "outputs": [
    {
     "data": {
      "text/html": [
       "<div>\n",
       "<style scoped>\n",
       "    .dataframe tbody tr th:only-of-type {\n",
       "        vertical-align: middle;\n",
       "    }\n",
       "\n",
       "    .dataframe tbody tr th {\n",
       "        vertical-align: top;\n",
       "    }\n",
       "\n",
       "    .dataframe thead th {\n",
       "        text-align: right;\n",
       "    }\n",
       "</style>\n",
       "<table border=\"1\" class=\"dataframe\">\n",
       "  <thead>\n",
       "    <tr style=\"text-align: right;\">\n",
       "      <th></th>\n",
       "      <th>Internal Study ID</th>\n",
       "      <th>Weekday</th>\n",
       "      <th>Morning_mood</th>\n",
       "      <th>Afternoon_mood</th>\n",
       "      <th>Evening_mood</th>\n",
       "      <th>Breakfast_time</th>\n",
       "      <th>Lunch_time</th>\n",
       "      <th>Dinner_time</th>\n",
       "      <th>Water_oz</th>\n",
       "      <th>Feeling of slept</th>\n",
       "      <th>...</th>\n",
       "      <th>Dinner_Red Meat Protein</th>\n",
       "      <th>Dinner_Other Protein</th>\n",
       "      <th>Dinner_Dairy</th>\n",
       "      <th>Dinner_Snacks</th>\n",
       "      <th>Additional_Fruits</th>\n",
       "      <th>Additional_Vegetables</th>\n",
       "      <th>Additional_Grains</th>\n",
       "      <th>Additional_Dairy</th>\n",
       "      <th>Additional_Snacks</th>\n",
       "      <th>Next_morning_mood</th>\n",
       "    </tr>\n",
       "  </thead>\n",
       "  <tbody>\n",
       "    <tr>\n",
       "      <th>0</th>\n",
       "      <td>511</td>\n",
       "      <td>5</td>\n",
       "      <td>4</td>\n",
       "      <td>5</td>\n",
       "      <td>3</td>\n",
       "      <td>2</td>\n",
       "      <td>3</td>\n",
       "      <td>4</td>\n",
       "      <td>2</td>\n",
       "      <td>2</td>\n",
       "      <td>...</td>\n",
       "      <td>1</td>\n",
       "      <td>0</td>\n",
       "      <td>0</td>\n",
       "      <td>0</td>\n",
       "      <td>0</td>\n",
       "      <td>0</td>\n",
       "      <td>1</td>\n",
       "      <td>0</td>\n",
       "      <td>1</td>\n",
       "      <td>4</td>\n",
       "    </tr>\n",
       "    <tr>\n",
       "      <th>1</th>\n",
       "      <td>511</td>\n",
       "      <td>6</td>\n",
       "      <td>3</td>\n",
       "      <td>3</td>\n",
       "      <td>3</td>\n",
       "      <td>3</td>\n",
       "      <td>3</td>\n",
       "      <td>3</td>\n",
       "      <td>3</td>\n",
       "      <td>3</td>\n",
       "      <td>...</td>\n",
       "      <td>1</td>\n",
       "      <td>0</td>\n",
       "      <td>0</td>\n",
       "      <td>0</td>\n",
       "      <td>0</td>\n",
       "      <td>0</td>\n",
       "      <td>1</td>\n",
       "      <td>0</td>\n",
       "      <td>1</td>\n",
       "      <td>4</td>\n",
       "    </tr>\n",
       "    <tr>\n",
       "      <th>2</th>\n",
       "      <td>511</td>\n",
       "      <td>0</td>\n",
       "      <td>3</td>\n",
       "      <td>3</td>\n",
       "      <td>4</td>\n",
       "      <td>2</td>\n",
       "      <td>3</td>\n",
       "      <td>2</td>\n",
       "      <td>3</td>\n",
       "      <td>2</td>\n",
       "      <td>...</td>\n",
       "      <td>0</td>\n",
       "      <td>1</td>\n",
       "      <td>0</td>\n",
       "      <td>0</td>\n",
       "      <td>0</td>\n",
       "      <td>0</td>\n",
       "      <td>1</td>\n",
       "      <td>0</td>\n",
       "      <td>1</td>\n",
       "      <td>3</td>\n",
       "    </tr>\n",
       "    <tr>\n",
       "      <th>3</th>\n",
       "      <td>511</td>\n",
       "      <td>1</td>\n",
       "      <td>4</td>\n",
       "      <td>3</td>\n",
       "      <td>3</td>\n",
       "      <td>2</td>\n",
       "      <td>3</td>\n",
       "      <td>3</td>\n",
       "      <td>3</td>\n",
       "      <td>2</td>\n",
       "      <td>...</td>\n",
       "      <td>1</td>\n",
       "      <td>0</td>\n",
       "      <td>0</td>\n",
       "      <td>0</td>\n",
       "      <td>0</td>\n",
       "      <td>0</td>\n",
       "      <td>1</td>\n",
       "      <td>0</td>\n",
       "      <td>1</td>\n",
       "      <td>3</td>\n",
       "    </tr>\n",
       "    <tr>\n",
       "      <th>4</th>\n",
       "      <td>511</td>\n",
       "      <td>2</td>\n",
       "      <td>3</td>\n",
       "      <td>4</td>\n",
       "      <td>3</td>\n",
       "      <td>2</td>\n",
       "      <td>3</td>\n",
       "      <td>3</td>\n",
       "      <td>3</td>\n",
       "      <td>2</td>\n",
       "      <td>...</td>\n",
       "      <td>0</td>\n",
       "      <td>0</td>\n",
       "      <td>1</td>\n",
       "      <td>0</td>\n",
       "      <td>0</td>\n",
       "      <td>0</td>\n",
       "      <td>1</td>\n",
       "      <td>0</td>\n",
       "      <td>1</td>\n",
       "      <td>4</td>\n",
       "    </tr>\n",
       "  </tbody>\n",
       "</table>\n",
       "<p>5 rows × 35 columns</p>\n",
       "</div>"
      ],
      "text/plain": [
       "   Internal Study ID  Weekday  Morning_mood  Afternoon_mood  Evening_mood  \\\n",
       "0                511        5             4               5             3   \n",
       "1                511        6             3               3             3   \n",
       "2                511        0             3               3             4   \n",
       "3                511        1             4               3             3   \n",
       "4                511        2             3               4             3   \n",
       "\n",
       "   Breakfast_time  Lunch_time  Dinner_time  Water_oz  Feeling of slept  ...  \\\n",
       "0               2           3            4         2                 2  ...   \n",
       "1               3           3            3         3                 3  ...   \n",
       "2               2           3            2         3                 2  ...   \n",
       "3               2           3            3         3                 2  ...   \n",
       "4               2           3            3         3                 2  ...   \n",
       "\n",
       "   Dinner_Red Meat Protein  Dinner_Other Protein  Dinner_Dairy  Dinner_Snacks  \\\n",
       "0                        1                     0             0              0   \n",
       "1                        1                     0             0              0   \n",
       "2                        0                     1             0              0   \n",
       "3                        1                     0             0              0   \n",
       "4                        0                     0             1              0   \n",
       "\n",
       "   Additional_Fruits  Additional_Vegetables  Additional_Grains  \\\n",
       "0                  0                      0                  1   \n",
       "1                  0                      0                  1   \n",
       "2                  0                      0                  1   \n",
       "3                  0                      0                  1   \n",
       "4                  0                      0                  1   \n",
       "\n",
       "   Additional_Dairy  Additional_Snacks  Next_morning_mood  \n",
       "0                 0                  1                  4  \n",
       "1                 0                  1                  4  \n",
       "2                 0                  1                  3  \n",
       "3                 0                  1                  3  \n",
       "4                 0                  1                  4  \n",
       "\n",
       "[5 rows x 35 columns]"
      ]
     },
     "execution_count": 66,
     "metadata": {},
     "output_type": "execute_result"
    }
   ],
   "source": [
    "mood_df.head()"
   ]
  },
  {
   "cell_type": "markdown",
   "metadata": {},
   "source": [
    "### Save the file as \"next_morning_mood_csv\""
   ]
  },
  {
   "cell_type": "code",
   "execution_count": 67,
   "metadata": {},
   "outputs": [],
   "source": [
    "mood_df.to_csv('next_morning_mood.csv', header=True, index=None)"
   ]
  },
  {
   "cell_type": "markdown",
   "metadata": {},
   "source": [
    "## The following code has not exerted yet"
   ]
  },
  {
   "cell_type": "markdown",
   "metadata": {},
   "source": [
    "response_unique_stud = response_data.groupby(\"Internal Study ID\") \\\n",
    "  .apply(lambda x: pd.Series({\n",
    "      \"Morning_mean_mood\"       : x['Morning_mood'].median(),\n",
    "      'Morning_best_mood'       : x['Morning_mood'].max(),\n",
    "      'Morning_worse_mood'      : x['Morning_mood'].min(),\n",
    "    'Water_oz'      : x['Water_oz'].median(),\n",
    "    'Feeling of slept'      : x['Feeling of slept'].median(),\n",
    "    'Trouble in falling sleep'      : x['Trouble in falling sleep'].median(),\n",
    "    'Trouble in staying asleep'      : x['Trouble in staying asleep'].median(),\n",
    "    'Feeling of slept'      : x['Feeling of slept'].median(),\n",
    "    'Total Steps'      : x['Total Steps'].mean(),\n",
    "    'Active Seconds'      : x['Active Seconds'].mean(),\n",
    "    'Highly Active Seconds'      : x['Highly Active Seconds'].mean(),\n",
    "    'Breakfast_Fruits'      : x['Breakfast_Fruits'].median(),\n",
    "    'Breakfast_Vegetables'      : x['Breakfast_Vegetables'].median(),\n",
    "    'Breakfast_Grains'      : x['Breakfast_Grains'].mean(),\n",
    "    'Breakfast_Red Meat Protein'      : x['Breakfast_Red Meat Protein'].median(),\n",
    "    'Breakfast_Dairy'      : x['Breakfast_Dairy'].median(),\n",
    "    'Breakfast_Caffeinated Beverages'      : x['Breakfast_Caffeinated Beverages'].median(),\n",
    "    'Breakfast_Snacks'      : x['Breakfast_Snacks'].median()\n",
    "  })\n",
    ")"
   ]
  },
  {
   "cell_type": "markdown",
   "metadata": {},
   "source": [
    "## 2. Process the sociodemographics data"
   ]
  },
  {
   "cell_type": "code",
   "execution_count": 74,
   "metadata": {},
   "outputs": [],
   "source": [
    "social_demographics = pd.read_excel(\"Survey-Curated-delete-bottom-bin.xlsx\", sheet_name = \"Sociodemographics\")\n",
    "# social_demographics = social_demographics.drop(columns=\"Bin\"), I already delete \"bin\" in this excel file\n",
    "social_demographics = social_demographics.replace(99, np.NaN)"
   ]
  },
  {
   "cell_type": "code",
   "execution_count": 69,
   "metadata": {},
   "outputs": [],
   "source": [
    "### Drop the three columns of which more than half rows have missing values\n",
    "### There is a typo in the feature names: Ethnicity vs Ethinity\n",
    "### Drop the study ID = 7877, most features of which are missing\n",
    "### Drop the feature of Age, because there is only one category for all the rows\n",
    "social_demographics = social_demographics.drop(columns = ['recreational hours', 'church hours', 'work hours'])\n",
    "social_demographics = social_demographics[social_demographics.index != 7887]\n",
    "social_demographics = social_demographics.drop(columns = \"Age\")\n",
    "social_demographics = social_demographics.rename(columns={\"Ethinity\": \"Ethnicity\"})\n",
    "# calculate the most frequence one\n",
    "mode = social_demographics['Race'].mode()\n",
    "mode[0]\n",
    "# replace NaN with mode\n",
    "for name in social_demographics.columns:\n",
    "    most_common = social_demographics[name].mode()[0]\n",
    "    social_demographics[name] = social_demographics[name].fillna(most_common)\n",
    "social_demographics.to_csv(\"base_cleaned.csv\", header=True, index=None)\n",
    "social_demographics = social_demographics.astype('int64')\n",
    "social_demographics.to_csv(\"base_integer.csv\", header=True, index=None)"
   ]
  },
  {
   "cell_type": "markdown",
   "metadata": {},
   "source": [
    "### Combined two sets and save as combined and sorted"
   ]
  },
  {
   "cell_type": "code",
   "execution_count": 70,
   "metadata": {},
   "outputs": [
    {
     "name": "stdout",
     "output_type": "stream",
     "text": [
      "(28, 15)\n",
      "(527, 35)\n",
      "(527, 49)\n"
     ]
    }
   ],
   "source": [
    "base = pd.read_csv(\"base_integer.csv\")\n",
    "print(base.shape)\n",
    "mood = pd.read_csv(\"next_morning_mood.csv\")\n",
    "print(mood.shape)\n",
    "combined = pd.merge(base, mood, on='Internal Study ID')\n",
    "combined = combined.sort_values(by = \"Internal Study ID\")\n",
    "print(combined.shape)\n",
    "combined.to_csv(\"combined.csv\", index=None)"
   ]
  }
 ],
 "metadata": {
  "kernelspec": {
   "display_name": "Python 3",
   "language": "python",
   "name": "python3"
  },
  "language_info": {
   "codemirror_mode": {
    "name": "ipython",
    "version": 3
   },
   "file_extension": ".py",
   "mimetype": "text/x-python",
   "name": "python",
   "nbconvert_exporter": "python",
   "pygments_lexer": "ipython3",
   "version": "3.7.3"
  }
 },
 "nbformat": 4,
 "nbformat_minor": 2
}
