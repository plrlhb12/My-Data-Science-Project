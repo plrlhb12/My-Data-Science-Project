{
 "cells": [
  {
   "cell_type": "code",
   "execution_count": 1,
   "metadata": {},
   "outputs": [],
   "source": [
    "import pandas as pd\n",
    "import matplotlib.pyplot as plt\n",
    "from pandas.plotting import scatter_matrix\n",
    "import numpy as np\n",
    "import seaborn as sns\n",
    "from matplotlib.ticker import FuncFormatter\n",
    "import IPython\n",
    "import warnings\n",
    "warnings.filterwarnings(\"ignore\", category=DeprecationWarning) \n",
    "\n",
    "%matplotlib inline"
   ]
  },
  {
   "cell_type": "code",
   "execution_count": 2,
   "metadata": {},
   "outputs": [],
   "source": [
    "plt.rcParams[\"figure.figsize\"] = (24,24) #in inches\n",
    "plt.rcParams['axes.titlesize'] = 16\n",
    "plt.rcParams['axes.labelsize'] = 14\n",
    "plt.rcParams['xtick.labelsize']=13\n",
    "plt.rcParams['ytick.labelsize']=13\n",
    "plt.rcParams['legend.fontsize']=13\n",
    "plt.rcParams['lines.linewidth']=2"
   ]
  },
  {
   "cell_type": "code",
   "execution_count": 20,
   "metadata": {},
   "outputs": [],
   "source": [
    "data = pd.read_excel('4304376.f1.xls', index_col = 0)"
   ]
  },
  {
   "cell_type": "code",
   "execution_count": 21,
   "metadata": {},
   "outputs": [
    {
     "data": {
      "text/plain": [
       "(10508, 20)"
      ]
     },
     "execution_count": 21,
     "metadata": {},
     "output_type": "execute_result"
    }
   ],
   "source": [
    "data.shape"
   ]
  },
  {
   "cell_type": "code",
   "execution_count": 22,
   "metadata": {},
   "outputs": [
    {
     "data": {
      "text/plain": [
       "Weight        0.004758\n",
       "Height        0.004663\n",
       "LDL           0.001047\n",
       "AST           0.000666\n",
       "Uric          0.000571\n",
       "ALT           0.000571\n",
       "ALP           0.000571\n",
       "GGT           0.000571\n",
       "TB            0.000571\n",
       "DB            0.000571\n",
       "TC            0.000571\n",
       "TG            0.000571\n",
       "HDL           0.000571\n",
       "Bun           0.000571\n",
       "Cr            0.000571\n",
       "Glu           0.000571\n",
       "IB            0.000571\n",
       "Gender        0.000000\n",
       "Ultrasound    0.000000\n",
       "Age           0.000000\n",
       "dtype: float64"
      ]
     },
     "execution_count": 22,
     "metadata": {},
     "output_type": "execute_result"
    }
   ],
   "source": [
    "data.isnull().mean().sort_values(ascending=False)"
   ]
  },
  {
   "cell_type": "markdown",
   "metadata": {},
   "source": [
    "### Explore the dataset\n",
    "1. There are null values. <br /> \n",
    "   --Need to fill null value with median value using Imputer.\n",
    "2. Gender is a categorial feature.  <br /> \n",
    "   --Need to do transformation using OneHotEncoder.\n",
    "3. Features are not on the same scale. <br />\n",
    "   --Need to be normalized using StandardScaler.\n",
    "4. The target (Ultrasound) is binary: 0/1.\n",
    "5. There dataset is slightly imbalanced. <br /> "
   ]
  },
  {
   "cell_type": "markdown",
   "metadata": {},
   "source": [
    "4. It may be better to divide Ages into groups."
   ]
  },
  {
   "cell_type": "markdown",
   "metadata": {},
   "source": [
    "#### Examintion of  the target column revealed that the dataset is imbalanced.\n",
    "1. Use oversampling to make it balanced"
   ]
  },
  {
   "cell_type": "code",
   "execution_count": 6,
   "metadata": {
    "scrolled": true
   },
   "outputs": [
    {
     "data": {
      "text/plain": [
       "0    7986\n",
       "1    2522\n",
       "Name: Ultrasound, dtype: int64"
      ]
     },
     "execution_count": 6,
     "metadata": {},
     "output_type": "execute_result"
    }
   ],
   "source": [
    "data.Ultrasound.value_counts()"
   ]
  },
  {
   "cell_type": "code",
   "execution_count": 7,
   "metadata": {},
   "outputs": [],
   "source": [
    "ratio = data.Ultrasound.value_counts()"
   ]
  },
  {
   "cell_type": "code",
   "execution_count": 8,
   "metadata": {
    "scrolled": false
   },
   "outputs": [
    {
     "name": "stdout",
     "output_type": "stream",
     "text": [
      "Percentage of class 0 : 0.76\n",
      "Percentage of class 1 : 0.24\n"
     ]
    }
   ],
   "source": [
    "print(\"Percentage of class 0 :\", round(ratio[0]/(ratio[0]+ratio[1]), 2))\n",
    "print(\"Percentage of class 1 :\", round(ratio[1]/(ratio[0]+ratio[1]), 2))"
   ]
  },
  {
   "cell_type": "markdown",
   "metadata": {},
   "source": [
    "### do oversampling"
   ]
  },
  {
   "cell_type": "code",
   "execution_count": 29,
   "metadata": {},
   "outputs": [],
   "source": [
    "columns = data.columns.to_list()\n",
    "\n",
    "for column in columns:\n",
    "    average = data[column].mean()\n",
    "    data[column] = data[column].fillna(average)"
   ]
  },
  {
   "cell_type": "code",
   "execution_count": 50,
   "metadata": {},
   "outputs": [],
   "source": [
    "X = data.drop(columns=\"Ultrasound\", axis=1)\n",
    "y = data.Ultrasound"
   ]
  },
  {
   "cell_type": "code",
   "execution_count": 32,
   "metadata": {},
   "outputs": [
    {
     "data": {
      "text/plain": [
       "0    7986\n",
       "1    2522\n",
       "Name: Ultrasound, dtype: int64"
      ]
     },
     "execution_count": 32,
     "metadata": {},
     "output_type": "execute_result"
    }
   ],
   "source": [
    "y.value_counts()"
   ]
  },
  {
   "cell_type": "code",
   "execution_count": 52,
   "metadata": {},
   "outputs": [],
   "source": [
    "# ros only receive X, y instead of a whole set, and the products are numpy arrays\n",
    "from imblearn.over_sampling import RandomOverSampler\n",
    "ros = RandomOverSampler(random_state=0)\n",
    "X, y = ros.fit_sample(X, y)"
   ]
  },
  {
   "cell_type": "code",
   "execution_count": null,
   "metadata": {},
   "outputs": [],
   "source": []
  },
  {
   "cell_type": "code",
   "execution_count": 41,
   "metadata": {},
   "outputs": [
    {
     "data": {
      "text/plain": [
       "15972"
      ]
     },
     "execution_count": 41,
     "metadata": {},
     "output_type": "execute_result"
    }
   ],
   "source": [
    "len(X)"
   ]
  },
  {
   "cell_type": "markdown",
   "metadata": {},
   "source": [
    "## Split the whole data into train and test sets as 7 : 3"
   ]
  },
  {
   "cell_type": "code",
   "execution_count": 35,
   "metadata": {},
   "outputs": [],
   "source": [
    "from sklearn.model_selection import train_test_split\n",
    "X_train, X_test, y_train, y_test = train_test_split(X, y, test_size=0.3, stratify = y, random_state=42)"
   ]
  },
  {
   "cell_type": "code",
   "execution_count": 40,
   "metadata": {},
   "outputs": [
    {
     "data": {
      "text/plain": [
       "1    5590\n",
       "0    5590\n",
       "Name: 0, dtype: int64"
      ]
     },
     "execution_count": 40,
     "metadata": {},
     "output_type": "execute_result"
    }
   ],
   "source": [
    "pd.DataFrame(y_train)[0].value_counts()"
   ]
  },
  {
   "cell_type": "markdown",
   "metadata": {},
   "source": [
    "### Set up numeric pipeline and categorical pipeline and combine them to a full_process_pipeline"
   ]
  },
  {
   "cell_type": "markdown",
   "metadata": {},
   "source": [
    "### Define the column name of numeric attributes and categorial attributes separeately"
   ]
  },
  {
   "cell_type": "code",
   "execution_count": 42,
   "metadata": {},
   "outputs": [],
   "source": [
    "\"\"\" a easy way to get column names from a dataframe  \"\"\"\n",
    "\n",
    "num_a = list(data)\n",
    "num_b = data.columns.drop(\"Gender\")"
   ]
  },
  {
   "cell_type": "code",
   "execution_count": 43,
   "metadata": {},
   "outputs": [],
   "source": [
    "cat_attributes = ['Gender']"
   ]
  },
  {
   "cell_type": "code",
   "execution_count": 45,
   "metadata": {},
   "outputs": [
    {
     "data": {
      "text/plain": [
       "Index(['Age', 'Height', 'Weight', 'ALT', 'AST', 'ALP', 'GGT', 'TB', 'DB', 'IB',\n",
       "       'TC', 'TG', 'HDL', 'LDL', 'Bun', 'Cr', 'Glu', 'Uric'],\n",
       "      dtype='object')"
      ]
     },
     "execution_count": 45,
     "metadata": {},
     "output_type": "execute_result"
    }
   ],
   "source": [
    "num_attributes = data.columns.drop(['Gender', \"Ultrasound\"])\n",
    "num_attributes"
   ]
  },
  {
   "cell_type": "code",
   "execution_count": 46,
   "metadata": {},
   "outputs": [],
   "source": [
    "from sklearn.impute import SimpleImputer\n",
    "from sklearn.pipeline import Pipeline\n",
    "from sklearn.preprocessing import StandardScaler\n",
    "from sklearn.preprocessing import OneHotEncoder"
   ]
  },
  {
   "cell_type": "code",
   "execution_count": 47,
   "metadata": {},
   "outputs": [],
   "source": [
    "num_pipeline = Pipeline([\n",
    "    (\"scaler\", StandardScaler())\n",
    "])\n",
    "\n",
    "cat_pipeline = Pipeline([\n",
    "    (\"encoder\", OneHotEncoder(categories='auto'))\n",
    "])"
   ]
  },
  {
   "cell_type": "code",
   "execution_count": 55,
   "metadata": {},
   "outputs": [],
   "source": [
    "columns.pop()  # delete the last column name ultrasound\n",
    "new_column_name = columns\n",
    "X_train_df = pd.DataFrame(X_train, columns = new_column_name)\n",
    "X_test_df = pd.DataFrame(X_test, columns = new_column_name)"
   ]
  },
  {
   "cell_type": "code",
   "execution_count": 64,
   "metadata": {},
   "outputs": [],
   "source": [
    "# it seems that columntranformer must receive df instead of numpy array\n",
    "\n",
    "from sklearn.compose import ColumnTransformer\n",
    "\n",
    "process_pipeline = ColumnTransformer([\n",
    "    ('num', num_pipeline, num_attributes),\n",
    "    ('cat', cat_pipeline, cat_attributes) \n",
    "])\n",
    "\n",
    "\n",
    "X_train_prepared = process_pipeline.fit_transform(X_train_df)\n",
    "X_test_prepared = process_pipeline.transform(X_test_df)"
   ]
  },
  {
   "cell_type": "markdown",
   "metadata": {},
   "source": [
    "### Try the model of KNN"
   ]
  },
  {
   "cell_type": "code",
   "execution_count": 66,
   "metadata": {
    "scrolled": true
   },
   "outputs": [
    {
     "data": {
      "text/plain": [
       "<matplotlib.legend.Legend at 0x1a240d83c8>"
      ]
     },
     "execution_count": 66,
     "metadata": {},
     "output_type": "execute_result"
    },
    {
     "data": {
      "image/png": "[encoded data removed]",
      "text/plain": [
       "<Figure size 720x576 with 1 Axes>"
      ]
     },
     "metadata": {
      "needs_background": "light"
     },
     "output_type": "display_data"
    }
   ],
   "source": [
    "from sklearn.neighbors import KNeighborsClassifier\n",
    "knn = KNeighborsClassifier()\n",
    "\n",
    "training_accuracy = []\n",
    "test_accuracy = []\n",
    "# try n_neighbors from 1 to 10\n",
    "n_neighbors_range = range(1, 20)\n",
    "\n",
    "for i in n_neighbors_range:\n",
    "    # build the model\n",
    "    knn = KNeighborsClassifier(n_neighbors = i)\n",
    "    knn.fit(X_train_prepared, y_train)\n",
    "    # record training set accuracy\n",
    "    training_accuracy.append(knn.score(X_train_prepared, y_train))\n",
    "    # record generalization accuracy\n",
    "    test_accuracy.append(knn.score(X_test_prepared, y_test))\n",
    "plt.figure(figsize = (10, 8))    \n",
    "plt.plot(n_neighbors_range, training_accuracy, label=\"training accuracy\")\n",
    "plt.plot(n_neighbors_range, test_accuracy, label=\"test accuracy\")\n",
    "plt.ylabel(\"Accuracy\")\n",
    "plt.xlabel(\"n_neighbors\")\n",
    "plt.legend()"
   ]
  },
  {
   "cell_type": "code",
   "execution_count": 67,
   "metadata": {},
   "outputs": [
    {
     "name": "stdout",
     "output_type": "stream",
     "text": [
      "Training accuracy is:  0.8334525939177102\n",
      "Testing accuracy is:  0.7931969949916527\n"
     ]
    }
   ],
   "source": [
    "knn = KNeighborsClassifier(n_neighbors = 11)\n",
    "knn.fit(X_train_prepared, y_train)\n",
    "print(\"Training accuracy is: \", knn.score(X_train_prepared, y_train))\n",
    "print(\"Testing accuracy is: \", knn.score(X_test_prepared, y_test))"
   ]
  },
  {
   "cell_type": "markdown",
   "metadata": {},
   "source": [
    "### Try Naive Bayeses model"
   ]
  },
  {
   "cell_type": "code",
   "execution_count": 68,
   "metadata": {},
   "outputs": [
    {
     "name": "stdout",
     "output_type": "stream",
     "text": [
      "Training accuracy is:  0.7438282647584973\n",
      "Testing accuracy is:  0.7316360601001669\n"
     ]
    }
   ],
   "source": [
    "from sklearn.naive_bayes import GaussianNB\n",
    "nb = GaussianNB()\n",
    "nb.fit(X_train_prepared, y_train)\n",
    "print(\"Training accuracy is: \", nb.score(X_train_prepared, y_train))\n",
    "print(\"Testing accuracy is: \", nb.score(X_test_prepared, y_test))"
   ]
  },
  {
   "cell_type": "markdown",
   "metadata": {},
   "source": [
    "### Try logistic regression model"
   ]
  },
  {
   "cell_type": "code",
   "execution_count": 70,
   "metadata": {
    "scrolled": false
   },
   "outputs": [
    {
     "name": "stdout",
     "output_type": "stream",
     "text": [
      "Training accuracy is:  0.8071556350626118\n",
      "Testing accuracy is:  0.7954924874791319\n"
     ]
    },
    {
     "name": "stderr",
     "output_type": "stream",
     "text": [
      "/Users/pengl/anaconda3/lib/python3.7/site-packages/sklearn/linear_model/logistic.py:432: FutureWarning: Default solver will be changed to 'lbfgs' in 0.22. Specify a solver to silence this warning.\n",
      "  FutureWarning)\n"
     ]
    }
   ],
   "source": [
    "from sklearn.linear_model import LogisticRegression\n",
    "logreg = LogisticRegression(C=100, penalty=\"l1\")\n",
    "logreg.fit(X_train_prepared, y_train)\n",
    "print(\"Training accuracy is: \", logreg.score(X_train_prepared, y_train))\n",
    "print(\"Testing accuracy is: \", logreg.score(X_test_prepared, y_test))"
   ]
  },
  {
   "cell_type": "markdown",
   "metadata": {},
   "source": [
    "## Try SVM"
   ]
  },
  {
   "cell_type": "code",
   "execution_count": 71,
   "metadata": {
    "scrolled": true
   },
   "outputs": [
    {
     "name": "stdout",
     "output_type": "stream",
     "text": [
      "Training accuracy is:  0.881484794275492\n",
      "Testing accuracy is:  0.8290901502504173\n"
     ]
    }
   ],
   "source": [
    "# C=1 IS BEETER THAN C=10\n",
    "from sklearn.svm import SVC\n",
    "svm = SVC(kernel = \"rbf\", C=1, gamma=0.1)\n",
    "svm.fit(X_train_prepared, y_train)\n",
    "print(\"Training accuracy is: \", svm.score(X_train_prepared, y_train))\n",
    "print(\"Testing accuracy is: \", svm.score(X_test_prepared, y_test))"
   ]
  },
  {
   "cell_type": "code",
   "execution_count": 72,
   "metadata": {
    "scrolled": true
   },
   "outputs": [
    {
     "name": "stdout",
     "output_type": "stream",
     "text": [
      "Training accuracy is:  0.8065295169946333\n",
      "Testing accuracy is:  0.7942404006677797\n"
     ]
    },
    {
     "name": "stderr",
     "output_type": "stream",
     "text": [
      "/Users/pengl/anaconda3/lib/python3.7/site-packages/sklearn/svm/base.py:929: ConvergenceWarning: Liblinear failed to converge, increase the number of iterations.\n",
      "  \"the number of iterations.\", ConvergenceWarning)\n"
     ]
    }
   ],
   "source": [
    "# C=1 IS BEETER THAN C=10\n",
    "from sklearn.svm import LinearSVC\n",
    "linear_svm = LinearSVC()\n",
    "linear_svm.fit(X_train_prepared, y_train)\n",
    "print(\"Training accuracy is: \", linear_svm.score(X_train_prepared, y_train))\n",
    "print(\"Testing accuracy is: \", linear_svm.score(X_test_prepared, y_test))"
   ]
  },
  {
   "cell_type": "code",
   "execution_count": 74,
   "metadata": {
    "scrolled": true
   },
   "outputs": [
    {
     "data": {
      "image/png": "[encoded data removed]",
      "text/plain": [
       "<Figure size 576x432 with 1 Axes>"
      ]
     },
     "metadata": {
      "needs_background": "light"
     },
     "output_type": "display_data"
    }
   ],
   "source": [
    "\"\"\"\n",
    "There is difference between svm and other models on retrieving it predict_proba. It use\n",
    "decison_function instead of predict_proba; also the return is a single column\n",
    "instead of two columns, the value is also not between 0 and 1\n",
    "\n",
    "The following are the codes to get predic_proba\n",
    "probs = model.predict_proba(X_test_prepared)\n",
    "preds = probs[:,1]\n",
    "\n",
    "\n",
    "\"decision function returns pairwise scores between classes\" is incorrect. It should be the \"score for each class\" \n",
    "as it's written in the documentation page for decision_function part: \"Distance of the samples X to the separating hyperplane.\"\n",
    "\n",
    "\"\"\"\n",
    "\n",
    "from sklearn import metrics\n",
    "preds = svm.decision_function(X_test_prepared) # predicted probabilities generated by sklearn classifier\n",
    "fpr, tpr, threshold = metrics.roc_curve(y_test, preds)\n",
    "roc_auc = metrics.auc(fpr, tpr)\n",
    "\n",
    "plt.figure(figsize=(8,6))\n",
    "plt.title('ROC curve of SVM')\n",
    "plt.plot(fpr, tpr, 'b', label = 'AUC = %0.2f' % roc_auc)\n",
    "plt.legend(loc = 'lower right')\n",
    "plt.plot([0, 1], [0, 1],'r--')\n",
    "plt.xlim([0, 1])\n",
    "plt.ylim([0, 1])\n",
    "plt.ylabel('True Positive Rate')\n",
    "plt.xlabel('False Positive Rate')\n",
    "plt.show()"
   ]
  },
  {
   "cell_type": "markdown",
   "metadata": {},
   "source": [
    "### Try Decision Tree model"
   ]
  },
  {
   "cell_type": "markdown",
   "metadata": {},
   "source": [
    "### Add the visualization of decision tree and feature_importances"
   ]
  },
  {
   "cell_type": "code",
   "execution_count": 69,
   "metadata": {},
   "outputs": [
    {
     "name": "stdout",
     "output_type": "stream",
     "text": [
      "Training accuracy is:  0.7929338103756708\n",
      "Testing accuracy is:  0.7717028380634391\n"
     ]
    }
   ],
   "source": [
    "from sklearn.tree import DecisionTreeClassifier\n",
    "tree = DecisionTreeClassifier(random_state = 46, max_depth = 5)\n",
    "tree.fit(X_train_prepared, y_train)\n",
    "print(\"Training accuracy is: \", tree.score(X_train_prepared, y_train))\n",
    "print(\"Testing accuracy is: \", tree.score(X_test_prepared, y_test))"
   ]
  },
  {
   "cell_type": "code",
   "execution_count": 135,
   "metadata": {},
   "outputs": [],
   "source": [
    "num_attributes_combine2 = list(num_attributes)+ [\"Gender1\", 'Gender0']"
   ]
  },
  {
   "cell_type": "code",
   "execution_count": 317,
   "metadata": {},
   "outputs": [],
   "source": [
    "from sklearn.tree import export_graphviz\n",
    "\n",
    "export_graphviz(tree, out_file=\"NALD_tree.dot\", feature_names = num_attributes_combine2,\n",
    "class_names = ['Yes', \"No\"], impurity=False, filled=True)"
   ]
  },
  {
   "cell_type": "code",
   "execution_count": 318,
   "metadata": {},
   "outputs": [
    {
     "data": {
      "image/svg+xml": [
       "<?xml version=\"1.0\" encoding=\"UTF-8\" standalone=\"no\"?>\n",
       "<!DOCTYPE svg PUBLIC \"-//W3C//DTD SVG 1.1//EN\"\n",
       " \"http://www.w3.org/Graphics/SVG/1.1/DTD/svg11.dtd\">\n",
       "<!-- Generated by graphviz version 2.40.1 (20161225.0304)\n",
       " -->\n",
       "<!-- Title: Tree Pages: 1 -->\n",
       "<svg width=\"4008pt\" height=\"581pt\"\n",
       " viewBox=\"0.00 0.00 4008.00 581.00\" xmlns=\"http://www.w3.org/2000/svg\" xmlns:xlink=\"http://www.w3.org/1999/xlink\">\n",
       "<g id=\"graph0\" class=\"graph\" transform=\"scale(1 1) rotate(0) translate(4 577)\">\n",
       "<title>Tree</title>\n",
       "<polygon fill=\"#ffffff\" stroke=\"transparent\" points=\"-4,4 -4,-577 4004,-577 4004,4 -4,4\"/>\n",
       "<!-- 0 -->\n",
       "<g id=\"node1\" class=\"node\">\n",
       "<title>0</title>\n",
       "<polygon fill=\"#eda978\" stroke=\"#000000\" points=\"2321,-573 2187,-573 2187,-505 2321,-505 2321,-573\"/>\n",
       "<text text-anchor=\"middle\" x=\"2254\" y=\"-557.8\" font-family=\"Times,serif\" font-size=\"14.00\" fill=\"#000000\">Weight &lt;= 0.44</text>\n",
       "<text text-anchor=\"middle\" x=\"2254\" y=\"-542.8\" font-family=\"Times,serif\" font-size=\"14.00\" fill=\"#000000\">samples = 7355</text>\n",
       "<text text-anchor=\"middle\" x=\"2254\" y=\"-527.8\" font-family=\"Times,serif\" font-size=\"14.00\" fill=\"#000000\">value = [5590, 1765]</text>\n",
       "<text text-anchor=\"middle\" x=\"2254\" y=\"-512.8\" font-family=\"Times,serif\" font-size=\"14.00\" fill=\"#000000\">class = Yes</text>\n",
       "</g>\n",
       "<!-- 1 -->\n",
       "<g id=\"node2\" class=\"node\">\n",
       "<title>1</title>\n",
       "<polygon fill=\"#e99356\" stroke=\"#000000\" points=\"1649.5,-469 1522.5,-469 1522.5,-401 1649.5,-401 1649.5,-469\"/>\n",
       "<text text-anchor=\"middle\" x=\"1586\" y=\"-453.8\" font-family=\"Times,serif\" font-size=\"14.00\" fill=\"#000000\">TG &lt;= 0.27</text>\n",
       "<text text-anchor=\"middle\" x=\"1586\" y=\"-438.8\" font-family=\"Times,serif\" font-size=\"14.00\" fill=\"#000000\">samples = 4982</text>\n",
       "<text text-anchor=\"middle\" x=\"1586\" y=\"-423.8\" font-family=\"Times,serif\" font-size=\"14.00\" fill=\"#000000\">value = [4350, 632]</text>\n",
       "<text text-anchor=\"middle\" x=\"1586\" y=\"-408.8\" font-family=\"Times,serif\" font-size=\"14.00\" fill=\"#000000\">class = Yes</text>\n",
       "</g>\n",
       "<!-- 0&#45;&gt;1 -->\n",
       "<g id=\"edge1\" class=\"edge\">\n",
       "<title>0&#45;&gt;1</title>\n",
       "<path fill=\"none\" stroke=\"#000000\" d=\"M2186.8911,-528.5519C2060.9742,-508.9481 1790.2369,-466.7974 1659.5519,-446.4512\"/>\n",
       "<polygon fill=\"#000000\" stroke=\"#000000\" points=\"1660.0477,-442.9863 1649.6282,-444.9062 1658.9708,-449.903 1660.0477,-442.9863\"/>\n",
       "<text text-anchor=\"middle\" x=\"1664.376\" y=\"-461.3929\" font-family=\"Times,serif\" font-size=\"14.00\" fill=\"#000000\">True</text>\n",
       "</g>\n",
       "<!-- 32 -->\n",
       "<g id=\"node33\" class=\"node\">\n",
       "<title>32</title>\n",
       "<polygon fill=\"#fdf4ee\" stroke=\"#000000\" points=\"2498,-469 2364,-469 2364,-401 2498,-401 2498,-469\"/>\n",
       "<text text-anchor=\"middle\" x=\"2431\" y=\"-453.8\" font-family=\"Times,serif\" font-size=\"14.00\" fill=\"#000000\">GGT &lt;= &#45;0.171</text>\n",
       "<text text-anchor=\"middle\" x=\"2431\" y=\"-438.8\" font-family=\"Times,serif\" font-size=\"14.00\" fill=\"#000000\">samples = 2373</text>\n",
       "<text text-anchor=\"middle\" x=\"2431\" y=\"-423.8\" font-family=\"Times,serif\" font-size=\"14.00\" fill=\"#000000\">value = [1240, 1133]</text>\n",
       "<text text-anchor=\"middle\" x=\"2431\" y=\"-408.8\" font-family=\"Times,serif\" font-size=\"14.00\" fill=\"#000000\">class = Yes</text>\n",
       "</g>\n",
       "<!-- 0&#45;&gt;32 -->\n",
       "<g id=\"edge32\" class=\"edge\">\n",
       "<title>0&#45;&gt;32</title>\n",
       "<path fill=\"none\" stroke=\"#000000\" d=\"M2311.9564,-504.9465C2328.6125,-495.1599 2346.9137,-484.4066 2364.0644,-474.3294\"/>\n",
       "<polygon fill=\"#000000\" stroke=\"#000000\" points=\"2366.0646,-477.2136 2372.9134,-469.13 2362.5184,-471.1783 2366.0646,-477.2136\"/>\n",
       "<text text-anchor=\"middle\" x=\"2366.6274\" y=\"-489.6268\" font-family=\"Times,serif\" font-size=\"14.00\" fill=\"#000000\">False</text>\n",
       "</g>\n",
       "<!-- 2 -->\n",
       "<g id=\"node3\" class=\"node\">\n",
       "<title>2</title>\n",
       "<polygon fill=\"#e78b49\" stroke=\"#000000\" points=\"841.5,-365 714.5,-365 714.5,-297 841.5,-297 841.5,-365\"/>\n",
       "<text text-anchor=\"middle\" x=\"778\" y=\"-349.8\" font-family=\"Times,serif\" font-size=\"14.00\" fill=\"#000000\">TG &lt;= &#45;0.308</text>\n",
       "<text text-anchor=\"middle\" x=\"778\" y=\"-334.8\" font-family=\"Times,serif\" font-size=\"14.00\" fill=\"#000000\">samples = 4038</text>\n",
       "<text text-anchor=\"middle\" x=\"778\" y=\"-319.8\" font-family=\"Times,serif\" font-size=\"14.00\" fill=\"#000000\">value = [3735, 303]</text>\n",
       "<text text-anchor=\"middle\" x=\"778\" y=\"-304.8\" font-family=\"Times,serif\" font-size=\"14.00\" fill=\"#000000\">class = Yes</text>\n",
       "</g>\n",
       "<!-- 1&#45;&gt;2 -->\n",
       "<g id=\"edge2\" class=\"edge\">\n",
       "<title>1&#45;&gt;2</title>\n",
       "<path fill=\"none\" stroke=\"#000000\" d=\"M1522.2603,-426.7959C1374.3991,-407.7642 1008.7214,-360.6968 851.6364,-340.478\"/>\n",
       "<polygon fill=\"#000000\" stroke=\"#000000\" points=\"851.9607,-336.9909 841.5957,-339.1856 851.067,-343.9336 851.9607,-336.9909\"/>\n",
       "</g>\n",
       "<!-- 17 -->\n",
       "<g id=\"node18\" class=\"node\">\n",
       "<title>17</title>\n",
       "<polygon fill=\"#f3c4a3\" stroke=\"#000000\" points=\"1646,-365 1526,-365 1526,-297 1646,-297 1646,-365\"/>\n",
       "<text text-anchor=\"middle\" x=\"1586\" y=\"-349.8\" font-family=\"Times,serif\" font-size=\"14.00\" fill=\"#000000\">ALT &lt;= 0.163</text>\n",
       "<text text-anchor=\"middle\" x=\"1586\" y=\"-334.8\" font-family=\"Times,serif\" font-size=\"14.00\" fill=\"#000000\">samples = 944</text>\n",
       "<text text-anchor=\"middle\" x=\"1586\" y=\"-319.8\" font-family=\"Times,serif\" font-size=\"14.00\" fill=\"#000000\">value = [615, 329]</text>\n",
       "<text text-anchor=\"middle\" x=\"1586\" y=\"-304.8\" font-family=\"Times,serif\" font-size=\"14.00\" fill=\"#000000\">class = Yes</text>\n",
       "</g>\n",
       "<!-- 1&#45;&gt;17 -->\n",
       "<g id=\"edge17\" class=\"edge\">\n",
       "<title>1&#45;&gt;17</title>\n",
       "<path fill=\"none\" stroke=\"#000000\" d=\"M1586,-400.9465C1586,-392.776 1586,-383.9318 1586,-375.3697\"/>\n",
       "<polygon fill=\"#000000\" stroke=\"#000000\" points=\"1589.5001,-375.13 1586,-365.13 1582.5001,-375.13 1589.5001,-375.13\"/>\n",
       "</g>\n",
       "<!-- 3 -->\n",
       "<g id=\"node4\" class=\"node\">\n",
       "<title>3</title>\n",
       "<polygon fill=\"#e68641\" stroke=\"#000000\" points=\"455.5,-261 328.5,-261 328.5,-193 455.5,-193 455.5,-261\"/>\n",
       "<text text-anchor=\"middle\" x=\"392\" y=\"-245.8\" font-family=\"Times,serif\" font-size=\"14.00\" fill=\"#000000\">GGT &lt;= &#45;0.004</text>\n",
       "<text text-anchor=\"middle\" x=\"392\" y=\"-230.8\" font-family=\"Times,serif\" font-size=\"14.00\" fill=\"#000000\">samples = 2760</text>\n",
       "<text text-anchor=\"middle\" x=\"392\" y=\"-215.8\" font-family=\"Times,serif\" font-size=\"14.00\" fill=\"#000000\">value = [2653, 107]</text>\n",
       "<text text-anchor=\"middle\" x=\"392\" y=\"-200.8\" font-family=\"Times,serif\" font-size=\"14.00\" fill=\"#000000\">class = Yes</text>\n",
       "</g>\n",
       "<!-- 2&#45;&gt;3 -->\n",
       "<g id=\"edge3\" class=\"edge\">\n",
       "<title>2&#45;&gt;3</title>\n",
       "<path fill=\"none\" stroke=\"#000000\" d=\"M714.26,-313.8265C645.8509,-295.3951 537.3435,-266.1599 465.4127,-246.7796\"/>\n",
       "<polygon fill=\"#000000\" stroke=\"#000000\" points=\"466.0799,-243.3346 455.5137,-244.1125 464.2588,-250.0936 466.0799,-243.3346\"/>\n",
       "</g>\n",
       "<!-- 10 -->\n",
       "<g id=\"node11\" class=\"node\">\n",
       "<title>10</title>\n",
       "<polygon fill=\"#ea985d\" stroke=\"#000000\" points=\"841.5,-261 714.5,-261 714.5,-193 841.5,-193 841.5,-261\"/>\n",
       "<text text-anchor=\"middle\" x=\"778\" y=\"-245.8\" font-family=\"Times,serif\" font-size=\"14.00\" fill=\"#000000\">Weight &lt;= &#45;0.467</text>\n",
       "<text text-anchor=\"middle\" x=\"778\" y=\"-230.8\" font-family=\"Times,serif\" font-size=\"14.00\" fill=\"#000000\">samples = 1278</text>\n",
       "<text text-anchor=\"middle\" x=\"778\" y=\"-215.8\" font-family=\"Times,serif\" font-size=\"14.00\" fill=\"#000000\">value = [1082, 196]</text>\n",
       "<text text-anchor=\"middle\" x=\"778\" y=\"-200.8\" font-family=\"Times,serif\" font-size=\"14.00\" fill=\"#000000\">class = Yes</text>\n",
       "</g>\n",
       "<!-- 2&#45;&gt;10 -->\n",
       "<g id=\"edge10\" class=\"edge\">\n",
       "<title>2&#45;&gt;10</title>\n",
       "<path fill=\"none\" stroke=\"#000000\" d=\"M778,-296.9465C778,-288.776 778,-279.9318 778,-271.3697\"/>\n",
       "<polygon fill=\"#000000\" stroke=\"#000000\" points=\"781.5001,-271.13 778,-261.13 774.5001,-271.13 781.5001,-271.13\"/>\n",
       "</g>\n",
       "<!-- 4 -->\n",
       "<g id=\"node5\" class=\"node\">\n",
       "<title>4</title>\n",
       "<polygon fill=\"#e6843e\" stroke=\"#000000\" points=\"255,-157 135,-157 135,-89 255,-89 255,-157\"/>\n",
       "<text text-anchor=\"middle\" x=\"195\" y=\"-141.8\" font-family=\"Times,serif\" font-size=\"14.00\" fill=\"#000000\">Glu &lt;= 0.498</text>\n",
       "<text text-anchor=\"middle\" x=\"195\" y=\"-126.8\" font-family=\"Times,serif\" font-size=\"14.00\" fill=\"#000000\">samples = 2458</text>\n",
       "<text text-anchor=\"middle\" x=\"195\" y=\"-111.8\" font-family=\"Times,serif\" font-size=\"14.00\" fill=\"#000000\">value = [2392, 66]</text>\n",
       "<text text-anchor=\"middle\" x=\"195\" y=\"-96.8\" font-family=\"Times,serif\" font-size=\"14.00\" fill=\"#000000\">class = Yes</text>\n",
       "</g>\n",
       "<!-- 3&#45;&gt;4 -->\n",
       "<g id=\"edge4\" class=\"edge\">\n",
       "<title>3&#45;&gt;4</title>\n",
       "<path fill=\"none\" stroke=\"#000000\" d=\"M328.3118,-193.3778C307.8457,-182.5734 285.0786,-170.5542 264.2345,-159.5502\"/>\n",
       "<polygon fill=\"#000000\" stroke=\"#000000\" points=\"265.5982,-156.3124 255.1209,-154.7389 262.3302,-162.5027 265.5982,-156.3124\"/>\n",
       "</g>\n",
       "<!-- 7 -->\n",
       "<g id=\"node8\" class=\"node\">\n",
       "<title>7</title>\n",
       "<polygon fill=\"#e99558\" stroke=\"#000000\" points=\"448.5,-157 335.5,-157 335.5,-89 448.5,-89 448.5,-157\"/>\n",
       "<text text-anchor=\"middle\" x=\"392\" y=\"-141.8\" font-family=\"Times,serif\" font-size=\"14.00\" fill=\"#000000\">ALT &lt;= 1.221</text>\n",
       "<text text-anchor=\"middle\" x=\"392\" y=\"-126.8\" font-family=\"Times,serif\" font-size=\"14.00\" fill=\"#000000\">samples = 302</text>\n",
       "<text text-anchor=\"middle\" x=\"392\" y=\"-111.8\" font-family=\"Times,serif\" font-size=\"14.00\" fill=\"#000000\">value = [261, 41]</text>\n",
       "<text text-anchor=\"middle\" x=\"392\" y=\"-96.8\" font-family=\"Times,serif\" font-size=\"14.00\" fill=\"#000000\">class = Yes</text>\n",
       "</g>\n",
       "<!-- 3&#45;&gt;7 -->\n",
       "<g id=\"edge7\" class=\"edge\">\n",
       "<title>3&#45;&gt;7</title>\n",
       "<path fill=\"none\" stroke=\"#000000\" d=\"M392,-192.9465C392,-184.776 392,-175.9318 392,-167.3697\"/>\n",
       "<polygon fill=\"#000000\" stroke=\"#000000\" points=\"395.5001,-167.13 392,-157.13 388.5001,-167.13 395.5001,-167.13\"/>\n",
       "</g>\n",
       "<!-- 5 -->\n",
       "<g id=\"node6\" class=\"node\">\n",
       "<title>5</title>\n",
       "<polygon fill=\"#e6833d\" stroke=\"#000000\" points=\"120,-53 0,-53 0,0 120,0 120,-53\"/>\n",
       "<text text-anchor=\"middle\" x=\"60\" y=\"-37.8\" font-family=\"Times,serif\" font-size=\"14.00\" fill=\"#000000\">samples = 2224</text>\n",
       "<text text-anchor=\"middle\" x=\"60\" y=\"-22.8\" font-family=\"Times,serif\" font-size=\"14.00\" fill=\"#000000\">value = [2182, 42]</text>\n",
       "<text text-anchor=\"middle\" x=\"60\" y=\"-7.8\" font-family=\"Times,serif\" font-size=\"14.00\" fill=\"#000000\">class = Yes</text>\n",
       "</g>\n",
       "<!-- 4&#45;&gt;5 -->\n",
       "<g id=\"edge5\" class=\"edge\">\n",
       "<title>4&#45;&gt;5</title>\n",
       "<path fill=\"none\" stroke=\"#000000\" d=\"M147.4041,-88.9777C133.8252,-79.2713 119.0661,-68.7213 105.6088,-59.1018\"/>\n",
       "<polygon fill=\"#000000\" stroke=\"#000000\" points=\"107.5908,-56.2164 97.4202,-53.2485 103.5201,-61.9111 107.5908,-56.2164\"/>\n",
       "</g>\n",
       "<!-- 6 -->\n",
       "<g id=\"node7\" class=\"node\">\n",
       "<title>6</title>\n",
       "<polygon fill=\"#e88f50\" stroke=\"#000000\" points=\"251.5,-53 138.5,-53 138.5,0 251.5,0 251.5,-53\"/>\n",
       "<text text-anchor=\"middle\" x=\"195\" y=\"-37.8\" font-family=\"Times,serif\" font-size=\"14.00\" fill=\"#000000\">samples = 234</text>\n",
       "<text text-anchor=\"middle\" x=\"195\" y=\"-22.8\" font-family=\"Times,serif\" font-size=\"14.00\" fill=\"#000000\">value = [210, 24]</text>\n",
       "<text text-anchor=\"middle\" x=\"195\" y=\"-7.8\" font-family=\"Times,serif\" font-size=\"14.00\" fill=\"#000000\">class = Yes</text>\n",
       "</g>\n",
       "<!-- 4&#45;&gt;6 -->\n",
       "<g id=\"edge6\" class=\"edge\">\n",
       "<title>4&#45;&gt;6</title>\n",
       "<path fill=\"none\" stroke=\"#000000\" d=\"M195,-88.9777C195,-80.7364 195,-71.887 195,-63.5153\"/>\n",
       "<polygon fill=\"#000000\" stroke=\"#000000\" points=\"198.5001,-63.2484 195,-53.2485 191.5001,-63.2485 198.5001,-63.2484\"/>\n",
       "</g>\n",
       "<!-- 8 -->\n",
       "<g id=\"node9\" class=\"node\">\n",
       "<title>8</title>\n",
       "<polygon fill=\"#e88f4f\" stroke=\"#000000\" points=\"382.5,-53 269.5,-53 269.5,0 382.5,0 382.5,-53\"/>\n",
       "<text text-anchor=\"middle\" x=\"326\" y=\"-37.8\" font-family=\"Times,serif\" font-size=\"14.00\" fill=\"#000000\">samples = 268</text>\n",
       "<text text-anchor=\"middle\" x=\"326\" y=\"-22.8\" font-family=\"Times,serif\" font-size=\"14.00\" fill=\"#000000\">value = [241, 27]</text>\n",
       "<text text-anchor=\"middle\" x=\"326\" y=\"-7.8\" font-family=\"Times,serif\" font-size=\"14.00\" fill=\"#000000\">class = Yes</text>\n",
       "</g>\n",
       "<!-- 7&#45;&gt;8 -->\n",
       "<g id=\"edge8\" class=\"edge\">\n",
       "<title>7&#45;&gt;8</title>\n",
       "<path fill=\"none\" stroke=\"#000000\" d=\"M368.7309,-88.9777C362.656,-80.0954 356.0979,-70.5067 349.9865,-61.5711\"/>\n",
       "<polygon fill=\"#000000\" stroke=\"#000000\" points=\"352.8286,-59.5267 344.2943,-53.2485 347.0507,-63.4785 352.8286,-59.5267\"/>\n",
       "</g>\n",
       "<!-- 9 -->\n",
       "<g id=\"node10\" class=\"node\">\n",
       "<title>9</title>\n",
       "<polygon fill=\"#f7d9c4\" stroke=\"#000000\" points=\"507,-53 401,-53 401,0 507,0 507,-53\"/>\n",
       "<text text-anchor=\"middle\" x=\"454\" y=\"-37.8\" font-family=\"Times,serif\" font-size=\"14.00\" fill=\"#000000\">samples = 34</text>\n",
       "<text text-anchor=\"middle\" x=\"454\" y=\"-22.8\" font-family=\"Times,serif\" font-size=\"14.00\" fill=\"#000000\">value = [20, 14]</text>\n",
       "<text text-anchor=\"middle\" x=\"454\" y=\"-7.8\" font-family=\"Times,serif\" font-size=\"14.00\" fill=\"#000000\">class = Yes</text>\n",
       "</g>\n",
       "<!-- 7&#45;&gt;9 -->\n",
       "<g id=\"edge9\" class=\"edge\">\n",
       "<title>7&#45;&gt;9</title>\n",
       "<path fill=\"none\" stroke=\"#000000\" d=\"M413.8589,-88.9777C419.5068,-80.187 425.5993,-70.7044 431.2896,-61.8477\"/>\n",
       "<polygon fill=\"#000000\" stroke=\"#000000\" points=\"434.3537,-63.5536 436.8144,-53.2485 428.4644,-59.7698 434.3537,-63.5536\"/>\n",
       "</g>\n",
       "<!-- 11 -->\n",
       "<g id=\"node12\" class=\"node\">\n",
       "<title>11</title>\n",
       "<polygon fill=\"#e78946\" stroke=\"#000000\" points=\"768,-157 654,-157 654,-89 768,-89 768,-157\"/>\n",
       "<text text-anchor=\"middle\" x=\"711\" y=\"-141.8\" font-family=\"Times,serif\" font-size=\"14.00\" fill=\"#000000\">Height &lt;= &#45;1.502</text>\n",
       "<text text-anchor=\"middle\" x=\"711\" y=\"-126.8\" font-family=\"Times,serif\" font-size=\"14.00\" fill=\"#000000\">samples = 554</text>\n",
       "<text text-anchor=\"middle\" x=\"711\" y=\"-111.8\" font-family=\"Times,serif\" font-size=\"14.00\" fill=\"#000000\">value = [519, 35]</text>\n",
       "<text text-anchor=\"middle\" x=\"711\" y=\"-96.8\" font-family=\"Times,serif\" font-size=\"14.00\" fill=\"#000000\">class = Yes</text>\n",
       "</g>\n",
       "<!-- 10&#45;&gt;11 -->\n",
       "<g id=\"edge11\" class=\"edge\">\n",
       "<title>10&#45;&gt;11</title>\n",
       "<path fill=\"none\" stroke=\"#000000\" d=\"M756.0617,-192.9465C750.451,-184.2373 744.3471,-174.7626 738.4958,-165.6801\"/>\n",
       "<polygon fill=\"#000000\" stroke=\"#000000\" points=\"741.3457,-163.641 732.9876,-157.13 735.4611,-167.4321 741.3457,-163.641\"/>\n",
       "</g>\n",
       "<!-- 14 -->\n",
       "<g id=\"node15\" class=\"node\">\n",
       "<title>14</title>\n",
       "<polygon fill=\"#eca572\" stroke=\"#000000\" points=\"906,-157 786,-157 786,-89 906,-89 906,-157\"/>\n",
       "<text text-anchor=\"middle\" x=\"846\" y=\"-141.8\" font-family=\"Times,serif\" font-size=\"14.00\" fill=\"#000000\">Height &lt;= &#45;0.372</text>\n",
       "<text text-anchor=\"middle\" x=\"846\" y=\"-126.8\" font-family=\"Times,serif\" font-size=\"14.00\" fill=\"#000000\">samples = 724</text>\n",
       "<text text-anchor=\"middle\" x=\"846\" y=\"-111.8\" font-family=\"Times,serif\" font-size=\"14.00\" fill=\"#000000\">value = [563, 161]</text>\n",
       "<text text-anchor=\"middle\" x=\"846\" y=\"-96.8\" font-family=\"Times,serif\" font-size=\"14.00\" fill=\"#000000\">class = Yes</text>\n",
       "</g>\n",
       "<!-- 10&#45;&gt;14 -->\n",
       "<g id=\"edge14\" class=\"edge\">\n",
       "<title>10&#45;&gt;14</title>\n",
       "<path fill=\"none\" stroke=\"#000000\" d=\"M800.2657,-192.9465C805.9602,-184.2373 812.1552,-174.7626 818.0938,-165.6801\"/>\n",
       "<polygon fill=\"#000000\" stroke=\"#000000\" points=\"821.1411,-167.4151 823.6842,-157.13 815.2823,-163.5843 821.1411,-167.4151\"/>\n",
       "</g>\n",
       "<!-- 12 -->\n",
       "<g id=\"node13\" class=\"node\">\n",
       "<title>12</title>\n",
       "<polygon fill=\"#ea975c\" stroke=\"#000000\" points=\"638.5,-53 525.5,-53 525.5,0 638.5,0 638.5,-53\"/>\n",
       "<text text-anchor=\"middle\" x=\"582\" y=\"-37.8\" font-family=\"Times,serif\" font-size=\"14.00\" fill=\"#000000\">samples = 134</text>\n",
       "<text text-anchor=\"middle\" x=\"582\" y=\"-22.8\" font-family=\"Times,serif\" font-size=\"14.00\" fill=\"#000000\">value = [114, 20]</text>\n",
       "<text text-anchor=\"middle\" x=\"582\" y=\"-7.8\" font-family=\"Times,serif\" font-size=\"14.00\" fill=\"#000000\">class = Yes</text>\n",
       "</g>\n",
       "<!-- 11&#45;&gt;12 -->\n",
       "<g id=\"edge12\" class=\"edge\">\n",
       "<title>11&#45;&gt;12</title>\n",
       "<path fill=\"none\" stroke=\"#000000\" d=\"M665.5194,-88.9777C652.6665,-79.3629 638.7069,-68.9203 625.946,-59.3743\"/>\n",
       "<polygon fill=\"#000000\" stroke=\"#000000\" points=\"627.861,-56.436 617.757,-53.2485 623.668,-62.0412 627.861,-56.436\"/>\n",
       "</g>\n",
       "<!-- 13 -->\n",
       "<g id=\"node14\" class=\"node\">\n",
       "<title>13</title>\n",
       "<polygon fill=\"#e68640\" stroke=\"#000000\" points=\"769.5,-53 656.5,-53 656.5,0 769.5,0 769.5,-53\"/>\n",
       "<text text-anchor=\"middle\" x=\"713\" y=\"-37.8\" font-family=\"Times,serif\" font-size=\"14.00\" fill=\"#000000\">samples = 420</text>\n",
       "<text text-anchor=\"middle\" x=\"713\" y=\"-22.8\" font-family=\"Times,serif\" font-size=\"14.00\" fill=\"#000000\">value = [405, 15]</text>\n",
       "<text text-anchor=\"middle\" x=\"713\" y=\"-7.8\" font-family=\"Times,serif\" font-size=\"14.00\" fill=\"#000000\">class = Yes</text>\n",
       "</g>\n",
       "<!-- 11&#45;&gt;13 -->\n",
       "<g id=\"edge13\" class=\"edge\">\n",
       "<title>11&#45;&gt;13</title>\n",
       "<path fill=\"none\" stroke=\"#000000\" d=\"M711.7051,-88.9777C711.8759,-80.7364 712.0593,-71.887 712.2328,-63.5153\"/>\n",
       "<polygon fill=\"#000000\" stroke=\"#000000\" points=\"715.7376,-63.3189 712.4456,-53.2485 708.7391,-63.1738 715.7376,-63.3189\"/>\n",
       "</g>\n",
       "<!-- 15 -->\n",
       "<g id=\"node16\" class=\"node\">\n",
       "<title>15</title>\n",
       "<polygon fill=\"#f4c8a9\" stroke=\"#000000\" points=\"900.5,-53 787.5,-53 787.5,0 900.5,0 900.5,-53\"/>\n",
       "<text text-anchor=\"middle\" x=\"844\" y=\"-37.8\" font-family=\"Times,serif\" font-size=\"14.00\" fill=\"#000000\">samples = 230</text>\n",
       "<text text-anchor=\"middle\" x=\"844\" y=\"-22.8\" font-family=\"Times,serif\" font-size=\"14.00\" fill=\"#000000\">value = [147, 83]</text>\n",
       "<text text-anchor=\"middle\" x=\"844\" y=\"-7.8\" font-family=\"Times,serif\" font-size=\"14.00\" fill=\"#000000\">class = Yes</text>\n",
       "</g>\n",
       "<!-- 14&#45;&gt;15 -->\n",
       "<g id=\"edge15\" class=\"edge\">\n",
       "<title>14&#45;&gt;15</title>\n",
       "<path fill=\"none\" stroke=\"#000000\" d=\"M845.2949,-88.9777C845.1241,-80.7364 844.9407,-71.887 844.7672,-63.5153\"/>\n",
       "<polygon fill=\"#000000\" stroke=\"#000000\" points=\"848.2609,-63.1738 844.5544,-53.2485 841.2624,-63.3189 848.2609,-63.1738\"/>\n",
       "</g>\n",
       "<!-- 16 -->\n",
       "<g id=\"node17\" class=\"node\">\n",
       "<title>16</title>\n",
       "<polygon fill=\"#ea995e\" stroke=\"#000000\" points=\"1031.5,-53 918.5,-53 918.5,0 1031.5,0 1031.5,-53\"/>\n",
       "<text text-anchor=\"middle\" x=\"975\" y=\"-37.8\" font-family=\"Times,serif\" font-size=\"14.00\" fill=\"#000000\">samples = 494</text>\n",
       "<text text-anchor=\"middle\" x=\"975\" y=\"-22.8\" font-family=\"Times,serif\" font-size=\"14.00\" fill=\"#000000\">value = [416, 78]</text>\n",
       "<text text-anchor=\"middle\" x=\"975\" y=\"-7.8\" font-family=\"Times,serif\" font-size=\"14.00\" fill=\"#000000\">class = Yes</text>\n",
       "</g>\n",
       "<!-- 14&#45;&gt;16 -->\n",
       "<g id=\"edge16\" class=\"edge\">\n",
       "<title>14&#45;&gt;16</title>\n",
       "<path fill=\"none\" stroke=\"#000000\" d=\"M891.4806,-88.9777C904.3335,-79.3629 918.2931,-68.9203 931.054,-59.3743\"/>\n",
       "<polygon fill=\"#000000\" stroke=\"#000000\" points=\"933.332,-62.0412 939.243,-53.2485 929.139,-56.436 933.332,-62.0412\"/>\n",
       "</g>\n",
       "<!-- 18 -->\n",
       "<g id=\"node19\" class=\"node\">\n",
       "<title>18</title>\n",
       "<polygon fill=\"#eeac7d\" stroke=\"#000000\" points=\"1466,-261 1346,-261 1346,-193 1466,-193 1466,-261\"/>\n",
       "<text text-anchor=\"middle\" x=\"1406\" y=\"-245.8\" font-family=\"Times,serif\" font-size=\"14.00\" fill=\"#000000\">GGT &lt;= &#45;0.394</text>\n",
       "<text text-anchor=\"middle\" x=\"1406\" y=\"-230.8\" font-family=\"Times,serif\" font-size=\"14.00\" fill=\"#000000\">samples = 659</text>\n",
       "<text text-anchor=\"middle\" x=\"1406\" y=\"-215.8\" font-family=\"Times,serif\" font-size=\"14.00\" fill=\"#000000\">value = [491, 168]</text>\n",
       "<text text-anchor=\"middle\" x=\"1406\" y=\"-200.8\" font-family=\"Times,serif\" font-size=\"14.00\" fill=\"#000000\">class = Yes</text>\n",
       "</g>\n",
       "<!-- 17&#45;&gt;18 -->\n",
       "<g id=\"edge18\" class=\"edge\">\n",
       "<title>17&#45;&gt;18</title>\n",
       "<path fill=\"none\" stroke=\"#000000\" d=\"M1527.0613,-296.9465C1510.1229,-287.1599 1491.5115,-276.4066 1474.0701,-266.3294\"/>\n",
       "<polygon fill=\"#000000\" stroke=\"#000000\" points=\"1475.4808,-263.1023 1465.0711,-261.13 1471.9788,-269.1634 1475.4808,-263.1023\"/>\n",
       "</g>\n",
       "<!-- 25 -->\n",
       "<g id=\"node26\" class=\"node\">\n",
       "<title>25</title>\n",
       "<polygon fill=\"#d1e8f9\" stroke=\"#000000\" points=\"1710,-261 1590,-261 1590,-193 1710,-193 1710,-261\"/>\n",
       "<text text-anchor=\"middle\" x=\"1650\" y=\"-245.8\" font-family=\"Times,serif\" font-size=\"14.00\" fill=\"#000000\">TG &lt;= 1.211</text>\n",
       "<text text-anchor=\"middle\" x=\"1650\" y=\"-230.8\" font-family=\"Times,serif\" font-size=\"14.00\" fill=\"#000000\">samples = 285</text>\n",
       "<text text-anchor=\"middle\" x=\"1650\" y=\"-215.8\" font-family=\"Times,serif\" font-size=\"14.00\" fill=\"#000000\">value = [124, 161]</text>\n",
       "<text text-anchor=\"middle\" x=\"1650\" y=\"-200.8\" font-family=\"Times,serif\" font-size=\"14.00\" fill=\"#000000\">class = No</text>\n",
       "</g>\n",
       "<!-- 17&#45;&gt;25 -->\n",
       "<g id=\"edge25\" class=\"edge\">\n",
       "<title>17&#45;&gt;25</title>\n",
       "<path fill=\"none\" stroke=\"#000000\" d=\"M1606.956,-296.9465C1612.3155,-288.2373 1618.1461,-278.7626 1623.7353,-269.6801\"/>\n",
       "<polygon fill=\"#000000\" stroke=\"#000000\" points=\"1626.7367,-271.481 1628.9969,-261.13 1620.7751,-267.8122 1626.7367,-271.481\"/>\n",
       "</g>\n",
       "<!-- 19 -->\n",
       "<g id=\"node20\" class=\"node\">\n",
       "<title>19</title>\n",
       "<polygon fill=\"#e78945\" stroke=\"#000000\" points=\"1269,-157 1163,-157 1163,-89 1269,-89 1269,-157\"/>\n",
       "<text text-anchor=\"middle\" x=\"1216\" y=\"-141.8\" font-family=\"Times,serif\" font-size=\"14.00\" fill=\"#000000\">TC &lt;= 0.675</text>\n",
       "<text text-anchor=\"middle\" x=\"1216\" y=\"-126.8\" font-family=\"Times,serif\" font-size=\"14.00\" fill=\"#000000\">samples = 123</text>\n",
       "<text text-anchor=\"middle\" x=\"1216\" y=\"-111.8\" font-family=\"Times,serif\" font-size=\"14.00\" fill=\"#000000\">value = [116, 7]</text>\n",
       "<text text-anchor=\"middle\" x=\"1216\" y=\"-96.8\" font-family=\"Times,serif\" font-size=\"14.00\" fill=\"#000000\">class = Yes</text>\n",
       "</g>\n",
       "<!-- 18&#45;&gt;19 -->\n",
       "<g id=\"edge19\" class=\"edge\">\n",
       "<title>18&#45;&gt;19</title>\n",
       "<path fill=\"none\" stroke=\"#000000\" d=\"M1345.8828,-194.0938C1324.2877,-182.2733 1299.8999,-168.9242 1278.1366,-157.0116\"/>\n",
       "<polygon fill=\"#000000\" stroke=\"#000000\" points=\"1279.7571,-153.9086 1269.3047,-152.1773 1276.3961,-160.049 1279.7571,-153.9086\"/>\n",
       "</g>\n",
       "<!-- 22 -->\n",
       "<g id=\"node23\" class=\"node\">\n",
       "<title>22</title>\n",
       "<polygon fill=\"#f0b78e\" stroke=\"#000000\" points=\"1466,-157 1346,-157 1346,-89 1466,-89 1466,-157\"/>\n",
       "<text text-anchor=\"middle\" x=\"1406\" y=\"-141.8\" font-family=\"Times,serif\" font-size=\"14.00\" fill=\"#000000\">Cr &lt;= &#45;0.436</text>\n",
       "<text text-anchor=\"middle\" x=\"1406\" y=\"-126.8\" font-family=\"Times,serif\" font-size=\"14.00\" fill=\"#000000\">samples = 536</text>\n",
       "<text text-anchor=\"middle\" x=\"1406\" y=\"-111.8\" font-family=\"Times,serif\" font-size=\"14.00\" fill=\"#000000\">value = [375, 161]</text>\n",
       "<text text-anchor=\"middle\" x=\"1406\" y=\"-96.8\" font-family=\"Times,serif\" font-size=\"14.00\" fill=\"#000000\">class = Yes</text>\n",
       "</g>\n",
       "<!-- 18&#45;&gt;22 -->\n",
       "<g id=\"edge22\" class=\"edge\">\n",
       "<title>18&#45;&gt;22</title>\n",
       "<path fill=\"none\" stroke=\"#000000\" d=\"M1406,-192.9465C1406,-184.776 1406,-175.9318 1406,-167.3697\"/>\n",
       "<polygon fill=\"#000000\" stroke=\"#000000\" points=\"1409.5001,-167.13 1406,-157.13 1402.5001,-167.13 1409.5001,-167.13\"/>\n",
       "</g>\n",
       "<!-- 20 -->\n",
       "<g id=\"node21\" class=\"node\">\n",
       "<title>20</title>\n",
       "<polygon fill=\"#e58139\" stroke=\"#000000\" points=\"1148.5,-53 1049.5,-53 1049.5,0 1148.5,0 1148.5,-53\"/>\n",
       "<text text-anchor=\"middle\" x=\"1099\" y=\"-37.8\" font-family=\"Times,serif\" font-size=\"14.00\" fill=\"#000000\">samples = 77</text>\n",
       "<text text-anchor=\"middle\" x=\"1099\" y=\"-22.8\" font-family=\"Times,serif\" font-size=\"14.00\" fill=\"#000000\">value = [77, 0]</text>\n",
       "<text text-anchor=\"middle\" x=\"1099\" y=\"-7.8\" font-family=\"Times,serif\" font-size=\"14.00\" fill=\"#000000\">class = Yes</text>\n",
       "</g>\n",
       "<!-- 19&#45;&gt;20 -->\n",
       "<g id=\"edge20\" class=\"edge\">\n",
       "<title>19&#45;&gt;20</title>\n",
       "<path fill=\"none\" stroke=\"#000000\" d=\"M1174.7502,-88.9777C1163.2039,-79.4545 1150.6729,-69.1191 1139.189,-59.6473\"/>\n",
       "<polygon fill=\"#000000\" stroke=\"#000000\" points=\"1141.3724,-56.9113 1131.4308,-53.2485 1136.9184,-62.3115 1141.3724,-56.9113\"/>\n",
       "</g>\n",
       "<!-- 21 -->\n",
       "<g id=\"node22\" class=\"node\">\n",
       "<title>21</title>\n",
       "<polygon fill=\"#ea985d\" stroke=\"#000000\" points=\"1265.5,-53 1166.5,-53 1166.5,0 1265.5,0 1265.5,-53\"/>\n",
       "<text text-anchor=\"middle\" x=\"1216\" y=\"-37.8\" font-family=\"Times,serif\" font-size=\"14.00\" fill=\"#000000\">samples = 46</text>\n",
       "<text text-anchor=\"middle\" x=\"1216\" y=\"-22.8\" font-family=\"Times,serif\" font-size=\"14.00\" fill=\"#000000\">value = [39, 7]</text>\n",
       "<text text-anchor=\"middle\" x=\"1216\" y=\"-7.8\" font-family=\"Times,serif\" font-size=\"14.00\" fill=\"#000000\">class = Yes</text>\n",
       "</g>\n",
       "<!-- 19&#45;&gt;21 -->\n",
       "<g id=\"edge21\" class=\"edge\">\n",
       "<title>19&#45;&gt;21</title>\n",
       "<path fill=\"none\" stroke=\"#000000\" d=\"M1216,-88.9777C1216,-80.7364 1216,-71.887 1216,-63.5153\"/>\n",
       "<polygon fill=\"#000000\" stroke=\"#000000\" points=\"1219.5001,-63.2484 1216,-53.2485 1212.5001,-63.2485 1219.5001,-63.2484\"/>\n",
       "</g>\n",
       "<!-- 23 -->\n",
       "<g id=\"node24\" class=\"node\">\n",
       "<title>23</title>\n",
       "<polygon fill=\"#fbeadf\" stroke=\"#000000\" points=\"1390,-53 1284,-53 1284,0 1390,0 1390,-53\"/>\n",
       "<text text-anchor=\"middle\" x=\"1337\" y=\"-37.8\" font-family=\"Times,serif\" font-size=\"14.00\" fill=\"#000000\">samples = 169</text>\n",
       "<text text-anchor=\"middle\" x=\"1337\" y=\"-22.8\" font-family=\"Times,serif\" font-size=\"14.00\" fill=\"#000000\">value = [92, 77]</text>\n",
       "<text text-anchor=\"middle\" x=\"1337\" y=\"-7.8\" font-family=\"Times,serif\" font-size=\"14.00\" fill=\"#000000\">class = Yes</text>\n",
       "</g>\n",
       "<!-- 22&#45;&gt;23 -->\n",
       "<g id=\"edge23\" class=\"edge\">\n",
       "<title>22&#45;&gt;23</title>\n",
       "<path fill=\"none\" stroke=\"#000000\" d=\"M1381.6732,-88.9777C1375.3221,-80.0954 1368.466,-70.5067 1362.0768,-61.5711\"/>\n",
       "<polygon fill=\"#000000\" stroke=\"#000000\" points=\"1364.7893,-59.3472 1356.1259,-53.2485 1359.0952,-63.4187 1364.7893,-59.3472\"/>\n",
       "</g>\n",
       "<!-- 24 -->\n",
       "<g id=\"node25\" class=\"node\">\n",
       "<title>24</title>\n",
       "<polygon fill=\"#eda674\" stroke=\"#000000\" points=\"1521.5,-53 1408.5,-53 1408.5,0 1521.5,0 1521.5,-53\"/>\n",
       "<text text-anchor=\"middle\" x=\"1465\" y=\"-37.8\" font-family=\"Times,serif\" font-size=\"14.00\" fill=\"#000000\">samples = 367</text>\n",
       "<text text-anchor=\"middle\" x=\"1465\" y=\"-22.8\" font-family=\"Times,serif\" font-size=\"14.00\" fill=\"#000000\">value = [283, 84]</text>\n",
       "<text text-anchor=\"middle\" x=\"1465\" y=\"-7.8\" font-family=\"Times,serif\" font-size=\"14.00\" fill=\"#000000\">class = Yes</text>\n",
       "</g>\n",
       "<!-- 22&#45;&gt;24 -->\n",
       "<g id=\"edge24\" class=\"edge\">\n",
       "<title>22&#45;&gt;24</title>\n",
       "<path fill=\"none\" stroke=\"#000000\" d=\"M1426.8012,-88.9777C1432.1758,-80.187 1437.9735,-70.7044 1443.3885,-61.8477\"/>\n",
       "<polygon fill=\"#000000\" stroke=\"#000000\" points=\"1446.4158,-63.6059 1448.646,-53.2485 1440.4436,-59.9545 1446.4158,-63.6059\"/>\n",
       "</g>\n",
       "<!-- 26 -->\n",
       "<g id=\"node27\" class=\"node\">\n",
       "<title>26</title>\n",
       "<polygon fill=\"#fcf1e9\" stroke=\"#000000\" points=\"1707,-157 1593,-157 1593,-89 1707,-89 1707,-157\"/>\n",
       "<text text-anchor=\"middle\" x=\"1650\" y=\"-141.8\" font-family=\"Times,serif\" font-size=\"14.00\" fill=\"#000000\">Height &lt;= &#45;0.372</text>\n",
       "<text text-anchor=\"middle\" x=\"1650\" y=\"-126.8\" font-family=\"Times,serif\" font-size=\"14.00\" fill=\"#000000\">samples = 185</text>\n",
       "<text text-anchor=\"middle\" x=\"1650\" y=\"-111.8\" font-family=\"Times,serif\" font-size=\"14.00\" fill=\"#000000\">value = [98, 87]</text>\n",
       "<text text-anchor=\"middle\" x=\"1650\" y=\"-96.8\" font-family=\"Times,serif\" font-size=\"14.00\" fill=\"#000000\">class = Yes</text>\n",
       "</g>\n",
       "<!-- 25&#45;&gt;26 -->\n",
       "<g id=\"edge26\" class=\"edge\">\n",
       "<title>25&#45;&gt;26</title>\n",
       "<path fill=\"none\" stroke=\"#000000\" d=\"M1650,-192.9465C1650,-184.776 1650,-175.9318 1650,-167.3697\"/>\n",
       "<polygon fill=\"#000000\" stroke=\"#000000\" points=\"1653.5001,-167.13 1650,-157.13 1646.5001,-167.13 1653.5001,-167.13\"/>\n",
       "</g>\n",
       "<!-- 29 -->\n",
       "<g id=\"node30\" class=\"node\">\n",
       "<title>29</title>\n",
       "<polygon fill=\"#7fbfee\" stroke=\"#000000\" points=\"1899.5,-157 1782.5,-157 1782.5,-89 1899.5,-89 1899.5,-157\"/>\n",
       "<text text-anchor=\"middle\" x=\"1841\" y=\"-141.8\" font-family=\"Times,serif\" font-size=\"14.00\" fill=\"#000000\">Weight &lt;= &#45;0.122</text>\n",
       "<text text-anchor=\"middle\" x=\"1841\" y=\"-126.8\" font-family=\"Times,serif\" font-size=\"14.00\" fill=\"#000000\">samples = 100</text>\n",
       "<text text-anchor=\"middle\" x=\"1841\" y=\"-111.8\" font-family=\"Times,serif\" font-size=\"14.00\" fill=\"#000000\">value = [26, 74]</text>\n",
       "<text text-anchor=\"middle\" x=\"1841\" y=\"-96.8\" font-family=\"Times,serif\" font-size=\"14.00\" fill=\"#000000\">class = No</text>\n",
       "</g>\n",
       "<!-- 25&#45;&gt;29 -->\n",
       "<g id=\"edge29\" class=\"edge\">\n",
       "<title>25&#45;&gt;29</title>\n",
       "<path fill=\"none\" stroke=\"#000000\" d=\"M1710.1714,-194.2365C1730.2696,-183.293 1752.7978,-171.0263 1773.4213,-159.7968\"/>\n",
       "<polygon fill=\"#000000\" stroke=\"#000000\" points=\"1775.3291,-162.7432 1782.4379,-154.8872 1771.9817,-156.5955 1775.3291,-162.7432\"/>\n",
       "</g>\n",
       "<!-- 27 -->\n",
       "<g id=\"node28\" class=\"node\">\n",
       "<title>27</title>\n",
       "<polygon fill=\"#9ccef2\" stroke=\"#000000\" points=\"1646,-53 1540,-53 1540,0 1646,0 1646,-53\"/>\n",
       "<text text-anchor=\"middle\" x=\"1593\" y=\"-37.8\" font-family=\"Times,serif\" font-size=\"14.00\" fill=\"#000000\">samples = 87</text>\n",
       "<text text-anchor=\"middle\" x=\"1593\" y=\"-22.8\" font-family=\"Times,serif\" font-size=\"14.00\" fill=\"#000000\">value = [29, 58]</text>\n",
       "<text text-anchor=\"middle\" x=\"1593\" y=\"-7.8\" font-family=\"Times,serif\" font-size=\"14.00\" fill=\"#000000\">class = No</text>\n",
       "</g>\n",
       "<!-- 26&#45;&gt;27 -->\n",
       "<g id=\"edge27\" class=\"edge\">\n",
       "<title>26&#45;&gt;27</title>\n",
       "<path fill=\"none\" stroke=\"#000000\" d=\"M1629.9039,-88.9777C1624.7656,-80.2786 1619.227,-70.9018 1614.0425,-62.1247\"/>\n",
       "<polygon fill=\"#000000\" stroke=\"#000000\" points=\"1616.899,-60.0786 1608.7996,-53.2485 1610.8719,-63.6387 1616.899,-60.0786\"/>\n",
       "</g>\n",
       "<!-- 28 -->\n",
       "<g id=\"node29\" class=\"node\">\n",
       "<title>28</title>\n",
       "<polygon fill=\"#f0b68c\" stroke=\"#000000\" points=\"1770,-53 1664,-53 1664,0 1770,0 1770,-53\"/>\n",
       "<text text-anchor=\"middle\" x=\"1717\" y=\"-37.8\" font-family=\"Times,serif\" font-size=\"14.00\" fill=\"#000000\">samples = 98</text>\n",
       "<text text-anchor=\"middle\" x=\"1717\" y=\"-22.8\" font-family=\"Times,serif\" font-size=\"14.00\" fill=\"#000000\">value = [69, 29]</text>\n",
       "<text text-anchor=\"middle\" x=\"1717\" y=\"-7.8\" font-family=\"Times,serif\" font-size=\"14.00\" fill=\"#000000\">class = Yes</text>\n",
       "</g>\n",
       "<!-- 26&#45;&gt;28 -->\n",
       "<g id=\"edge28\" class=\"edge\">\n",
       "<title>26&#45;&gt;28</title>\n",
       "<path fill=\"none\" stroke=\"#000000\" d=\"M1673.6217,-88.9777C1679.7887,-80.0954 1686.4461,-70.5067 1692.6501,-61.5711\"/>\n",
       "<polygon fill=\"#000000\" stroke=\"#000000\" points=\"1695.6003,-63.4589 1698.4285,-53.2485 1689.8503,-59.4666 1695.6003,-63.4589\"/>\n",
       "</g>\n",
       "<!-- 30 -->\n",
       "<g id=\"node31\" class=\"node\">\n",
       "<title>30</title>\n",
       "<polygon fill=\"#c8e4f8\" stroke=\"#000000\" points=\"1894,-53 1788,-53 1788,0 1894,0 1894,-53\"/>\n",
       "<text text-anchor=\"middle\" x=\"1841\" y=\"-37.8\" font-family=\"Times,serif\" font-size=\"14.00\" fill=\"#000000\">samples = 43</text>\n",
       "<text text-anchor=\"middle\" x=\"1841\" y=\"-22.8\" font-family=\"Times,serif\" font-size=\"14.00\" fill=\"#000000\">value = [18, 25]</text>\n",
       "<text text-anchor=\"middle\" x=\"1841\" y=\"-7.8\" font-family=\"Times,serif\" font-size=\"14.00\" fill=\"#000000\">class = No</text>\n",
       "</g>\n",
       "<!-- 29&#45;&gt;30 -->\n",
       "<g id=\"edge30\" class=\"edge\">\n",
       "<title>29&#45;&gt;30</title>\n",
       "<path fill=\"none\" stroke=\"#000000\" d=\"M1841,-88.9777C1841,-80.7364 1841,-71.887 1841,-63.5153\"/>\n",
       "<polygon fill=\"#000000\" stroke=\"#000000\" points=\"1844.5001,-63.2484 1841,-53.2485 1837.5001,-63.2485 1844.5001,-63.2484\"/>\n",
       "</g>\n",
       "<!-- 31 -->\n",
       "<g id=\"node32\" class=\"node\">\n",
       "<title>31</title>\n",
       "<polygon fill=\"#59ade9\" stroke=\"#000000\" points=\"2011.5,-53 1912.5,-53 1912.5,0 2011.5,0 2011.5,-53\"/>\n",
       "<text text-anchor=\"middle\" x=\"1962\" y=\"-37.8\" font-family=\"Times,serif\" font-size=\"14.00\" fill=\"#000000\">samples = 57</text>\n",
       "<text text-anchor=\"middle\" x=\"1962\" y=\"-22.8\" font-family=\"Times,serif\" font-size=\"14.00\" fill=\"#000000\">value = [8, 49]</text>\n",
       "<text text-anchor=\"middle\" x=\"1962\" y=\"-7.8\" font-family=\"Times,serif\" font-size=\"14.00\" fill=\"#000000\">class = No</text>\n",
       "</g>\n",
       "<!-- 29&#45;&gt;31 -->\n",
       "<g id=\"edge31\" class=\"edge\">\n",
       "<title>29&#45;&gt;31</title>\n",
       "<path fill=\"none\" stroke=\"#000000\" d=\"M1883.6601,-88.9777C1895.6011,-79.4545 1908.5605,-69.1191 1920.437,-59.6473\"/>\n",
       "<polygon fill=\"#000000\" stroke=\"#000000\" points=\"1922.8246,-62.22 1928.4605,-53.2485 1918.46,-56.7473 1922.8246,-62.22\"/>\n",
       "</g>\n",
       "<!-- 33 -->\n",
       "<g id=\"node34\" class=\"node\">\n",
       "<title>33</title>\n",
       "<polygon fill=\"#eeaf81\" stroke=\"#000000\" points=\"2491,-365 2371,-365 2371,-297 2491,-297 2491,-365\"/>\n",
       "<text text-anchor=\"middle\" x=\"2431\" y=\"-349.8\" font-family=\"Times,serif\" font-size=\"14.00\" fill=\"#000000\">Age &lt;= &#45;0.849</text>\n",
       "<text text-anchor=\"middle\" x=\"2431\" y=\"-334.8\" font-family=\"Times,serif\" font-size=\"14.00\" fill=\"#000000\">samples = 836</text>\n",
       "<text text-anchor=\"middle\" x=\"2431\" y=\"-319.8\" font-family=\"Times,serif\" font-size=\"14.00\" fill=\"#000000\">value = [613, 223]</text>\n",
       "<text text-anchor=\"middle\" x=\"2431\" y=\"-304.8\" font-family=\"Times,serif\" font-size=\"14.00\" fill=\"#000000\">class = Yes</text>\n",
       "</g>\n",
       "<!-- 32&#45;&gt;33 -->\n",
       "<g id=\"edge33\" class=\"edge\">\n",
       "<title>32&#45;&gt;33</title>\n",
       "<path fill=\"none\" stroke=\"#000000\" d=\"M2431,-400.9465C2431,-392.776 2431,-383.9318 2431,-375.3697\"/>\n",
       "<polygon fill=\"#000000\" stroke=\"#000000\" points=\"2434.5001,-375.13 2431,-365.13 2427.5001,-375.13 2434.5001,-375.13\"/>\n",
       "</g>\n",
       "<!-- 48 -->\n",
       "<g id=\"node49\" class=\"node\">\n",
       "<title>48</title>\n",
       "<polygon fill=\"#c1e1f7\" stroke=\"#000000\" points=\"3312,-365 3192,-365 3192,-297 3312,-297 3312,-365\"/>\n",
       "<text text-anchor=\"middle\" x=\"3252\" y=\"-349.8\" font-family=\"Times,serif\" font-size=\"14.00\" fill=\"#000000\">ALT &lt;= 0.163</text>\n",
       "<text text-anchor=\"middle\" x=\"3252\" y=\"-334.8\" font-family=\"Times,serif\" font-size=\"14.00\" fill=\"#000000\">samples = 1537</text>\n",
       "<text text-anchor=\"middle\" x=\"3252\" y=\"-319.8\" font-family=\"Times,serif\" font-size=\"14.00\" fill=\"#000000\">value = [627, 910]</text>\n",
       "<text text-anchor=\"middle\" x=\"3252\" y=\"-304.8\" font-family=\"Times,serif\" font-size=\"14.00\" fill=\"#000000\">class = No</text>\n",
       "</g>\n",
       "<!-- 32&#45;&gt;48 -->\n",
       "<g id=\"edge48\" class=\"edge\">\n",
       "<title>32&#45;&gt;48</title>\n",
       "<path fill=\"none\" stroke=\"#000000\" d=\"M2498.1859,-426.4892C2651.454,-407.074 3025.6947,-359.6672 3181.8076,-339.8916\"/>\n",
       "<polygon fill=\"#000000\" stroke=\"#000000\" points=\"3182.2895,-343.3586 3191.7703,-338.6296 3181.4097,-336.4141 3182.2895,-343.3586\"/>\n",
       "</g>\n",
       "<!-- 34 -->\n",
       "<g id=\"node35\" class=\"node\">\n",
       "<title>34</title>\n",
       "<polygon fill=\"#e88e4d\" stroke=\"#000000\" points=\"2422.5,-261 2309.5,-261 2309.5,-193 2422.5,-193 2422.5,-261\"/>\n",
       "<text text-anchor=\"middle\" x=\"2366\" y=\"-245.8\" font-family=\"Times,serif\" font-size=\"14.00\" fill=\"#000000\">ALT &lt;= &#45;1.028</text>\n",
       "<text text-anchor=\"middle\" x=\"2366\" y=\"-230.8\" font-family=\"Times,serif\" font-size=\"14.00\" fill=\"#000000\">samples = 218</text>\n",
       "<text text-anchor=\"middle\" x=\"2366\" y=\"-215.8\" font-family=\"Times,serif\" font-size=\"14.00\" fill=\"#000000\">value = [198, 20]</text>\n",
       "<text text-anchor=\"middle\" x=\"2366\" y=\"-200.8\" font-family=\"Times,serif\" font-size=\"14.00\" fill=\"#000000\">class = Yes</text>\n",
       "</g>\n",
       "<!-- 33&#45;&gt;34 -->\n",
       "<g id=\"edge34\" class=\"edge\">\n",
       "<title>33&#45;&gt;34</title>\n",
       "<path fill=\"none\" stroke=\"#000000\" d=\"M2409.7166,-296.9465C2404.2733,-288.2373 2398.3516,-278.7626 2392.675,-269.6801\"/>\n",
       "<polygon fill=\"#000000\" stroke=\"#000000\" points=\"2395.5993,-267.755 2387.3312,-261.13 2389.6633,-271.465 2395.5993,-267.755\"/>\n",
       "</g>\n",
       "<!-- 41 -->\n",
       "<g id=\"node42\" class=\"node\">\n",
       "<title>41</title>\n",
       "<polygon fill=\"#f2bf9a\" stroke=\"#000000\" points=\"2678,-261 2558,-261 2558,-193 2678,-193 2678,-261\"/>\n",
       "<text text-anchor=\"middle\" x=\"2618\" y=\"-245.8\" font-family=\"Times,serif\" font-size=\"14.00\" fill=\"#000000\">Weight &lt;= 1.627</text>\n",
       "<text text-anchor=\"middle\" x=\"2618\" y=\"-230.8\" font-family=\"Times,serif\" font-size=\"14.00\" fill=\"#000000\">samples = 618</text>\n",
       "<text text-anchor=\"middle\" x=\"2618\" y=\"-215.8\" font-family=\"Times,serif\" font-size=\"14.00\" fill=\"#000000\">value = [415, 203]</text>\n",
       "<text text-anchor=\"middle\" x=\"2618\" y=\"-200.8\" font-family=\"Times,serif\" font-size=\"14.00\" fill=\"#000000\">class = Yes</text>\n",
       "</g>\n",
       "<!-- 33&#45;&gt;41 -->\n",
       "<g id=\"edge41\" class=\"edge\">\n",
       "<title>33&#45;&gt;41</title>\n",
       "<path fill=\"none\" stroke=\"#000000\" d=\"M2491.1973,-297.5213C2509.6318,-287.269 2530.0529,-275.9118 2549.0245,-265.3607\"/>\n",
       "<polygon fill=\"#000000\" stroke=\"#000000\" points=\"2550.8773,-268.3352 2557.9155,-260.416 2547.4749,-262.2177 2550.8773,-268.3352\"/>\n",
       "</g>\n",
       "<!-- 35 -->\n",
       "<g id=\"node36\" class=\"node\">\n",
       "<title>35</title>\n",
       "<polygon fill=\"#9ccef2\" stroke=\"#000000\" points=\"2234,-157 2138,-157 2138,-89 2234,-89 2234,-157\"/>\n",
       "<text text-anchor=\"middle\" x=\"2186\" y=\"-141.8\" font-family=\"Times,serif\" font-size=\"14.00\" fill=\"#000000\">Uric &lt;= 0.876</text>\n",
       "<text text-anchor=\"middle\" x=\"2186\" y=\"-126.8\" font-family=\"Times,serif\" font-size=\"14.00\" fill=\"#000000\">samples = 3</text>\n",
       "<text text-anchor=\"middle\" x=\"2186\" y=\"-111.8\" font-family=\"Times,serif\" font-size=\"14.00\" fill=\"#000000\">value = [1, 2]</text>\n",
       "<text text-anchor=\"middle\" x=\"2186\" y=\"-96.8\" font-family=\"Times,serif\" font-size=\"14.00\" fill=\"#000000\">class = No</text>\n",
       "</g>\n",
       "<!-- 34&#45;&gt;35 -->\n",
       "<g id=\"edge35\" class=\"edge\">\n",
       "<title>34&#45;&gt;35</title>\n",
       "<path fill=\"none\" stroke=\"#000000\" d=\"M2309.0469,-194.0938C2287.9583,-181.9092 2264.0585,-168.1005 2242.9686,-155.9152\"/>\n",
       "<polygon fill=\"#000000\" stroke=\"#000000\" points=\"2244.5281,-152.7741 2234.1184,-150.8018 2241.0261,-158.8351 2244.5281,-152.7741\"/>\n",
       "</g>\n",
       "<!-- 38 -->\n",
       "<g id=\"node39\" class=\"node\">\n",
       "<title>38</title>\n",
       "<polygon fill=\"#e78d4b\" stroke=\"#000000\" points=\"2422.5,-157 2309.5,-157 2309.5,-89 2422.5,-89 2422.5,-157\"/>\n",
       "<text text-anchor=\"middle\" x=\"2366\" y=\"-141.8\" font-family=\"Times,serif\" font-size=\"14.00\" fill=\"#000000\">ALT &lt;= &#45;0.366</text>\n",
       "<text text-anchor=\"middle\" x=\"2366\" y=\"-126.8\" font-family=\"Times,serif\" font-size=\"14.00\" fill=\"#000000\">samples = 215</text>\n",
       "<text text-anchor=\"middle\" x=\"2366\" y=\"-111.8\" font-family=\"Times,serif\" font-size=\"14.00\" fill=\"#000000\">value = [197, 18]</text>\n",
       "<text text-anchor=\"middle\" x=\"2366\" y=\"-96.8\" font-family=\"Times,serif\" font-size=\"14.00\" fill=\"#000000\">class = Yes</text>\n",
       "</g>\n",
       "<!-- 34&#45;&gt;38 -->\n",
       "<g id=\"edge38\" class=\"edge\">\n",
       "<title>34&#45;&gt;38</title>\n",
       "<path fill=\"none\" stroke=\"#000000\" d=\"M2366,-192.9465C2366,-184.776 2366,-175.9318 2366,-167.3697\"/>\n",
       "<polygon fill=\"#000000\" stroke=\"#000000\" points=\"2369.5001,-167.13 2366,-157.13 2362.5001,-167.13 2369.5001,-167.13\"/>\n",
       "</g>\n",
       "<!-- 36 -->\n",
       "<g id=\"node37\" class=\"node\">\n",
       "<title>36</title>\n",
       "<polygon fill=\"#399de5\" stroke=\"#000000\" points=\"2122,-53 2030,-53 2030,0 2122,0 2122,-53\"/>\n",
       "<text text-anchor=\"middle\" x=\"2076\" y=\"-37.8\" font-family=\"Times,serif\" font-size=\"14.00\" fill=\"#000000\">samples = 2</text>\n",
       "<text text-anchor=\"middle\" x=\"2076\" y=\"-22.8\" font-family=\"Times,serif\" font-size=\"14.00\" fill=\"#000000\">value = [0, 2]</text>\n",
       "<text text-anchor=\"middle\" x=\"2076\" y=\"-7.8\" font-family=\"Times,serif\" font-size=\"14.00\" fill=\"#000000\">class = No</text>\n",
       "</g>\n",
       "<!-- 35&#45;&gt;36 -->\n",
       "<g id=\"edge36\" class=\"edge\">\n",
       "<title>35&#45;&gt;36</title>\n",
       "<path fill=\"none\" stroke=\"#000000\" d=\"M2147.2181,-88.9777C2136.467,-79.546 2124.8078,-69.3178 2114.0962,-59.9208\"/>\n",
       "<polygon fill=\"#000000\" stroke=\"#000000\" points=\"2116.316,-57.2122 2106.4905,-53.2485 2111.6996,-62.4743 2116.316,-57.2122\"/>\n",
       "</g>\n",
       "<!-- 37 -->\n",
       "<g id=\"node38\" class=\"node\">\n",
       "<title>37</title>\n",
       "<polygon fill=\"#e58139\" stroke=\"#000000\" points=\"2232,-53 2140,-53 2140,0 2232,0 2232,-53\"/>\n",
       "<text text-anchor=\"middle\" x=\"2186\" y=\"-37.8\" font-family=\"Times,serif\" font-size=\"14.00\" fill=\"#000000\">samples = 1</text>\n",
       "<text text-anchor=\"middle\" x=\"2186\" y=\"-22.8\" font-family=\"Times,serif\" font-size=\"14.00\" fill=\"#000000\">value = [1, 0]</text>\n",
       "<text text-anchor=\"middle\" x=\"2186\" y=\"-7.8\" font-family=\"Times,serif\" font-size=\"14.00\" fill=\"#000000\">class = Yes</text>\n",
       "</g>\n",
       "<!-- 35&#45;&gt;37 -->\n",
       "<g id=\"edge37\" class=\"edge\">\n",
       "<title>35&#45;&gt;37</title>\n",
       "<path fill=\"none\" stroke=\"#000000\" d=\"M2186,-88.9777C2186,-80.7364 2186,-71.887 2186,-63.5153\"/>\n",
       "<polygon fill=\"#000000\" stroke=\"#000000\" points=\"2189.5001,-63.2484 2186,-53.2485 2182.5001,-63.2485 2189.5001,-63.2484\"/>\n",
       "</g>\n",
       "<!-- 39 -->\n",
       "<g id=\"node40\" class=\"node\">\n",
       "<title>39</title>\n",
       "<polygon fill=\"#e58139\" stroke=\"#000000\" points=\"2349.5,-53 2250.5,-53 2250.5,0 2349.5,0 2349.5,-53\"/>\n",
       "<text text-anchor=\"middle\" x=\"2300\" y=\"-37.8\" font-family=\"Times,serif\" font-size=\"14.00\" fill=\"#000000\">samples = 89</text>\n",
       "<text text-anchor=\"middle\" x=\"2300\" y=\"-22.8\" font-family=\"Times,serif\" font-size=\"14.00\" fill=\"#000000\">value = [89, 0]</text>\n",
       "<text text-anchor=\"middle\" x=\"2300\" y=\"-7.8\" font-family=\"Times,serif\" font-size=\"14.00\" fill=\"#000000\">class = Yes</text>\n",
       "</g>\n",
       "<!-- 38&#45;&gt;39 -->\n",
       "<g id=\"edge39\" class=\"edge\">\n",
       "<title>38&#45;&gt;39</title>\n",
       "<path fill=\"none\" stroke=\"#000000\" d=\"M2342.7309,-88.9777C2336.656,-80.0954 2330.0979,-70.5067 2323.9865,-61.5711\"/>\n",
       "<polygon fill=\"#000000\" stroke=\"#000000\" points=\"2326.8286,-59.5267 2318.2943,-53.2485 2321.0507,-63.4785 2326.8286,-59.5267\"/>\n",
       "</g>\n",
       "<!-- 40 -->\n",
       "<g id=\"node41\" class=\"node\">\n",
       "<title>40</title>\n",
       "<polygon fill=\"#e9965a\" stroke=\"#000000\" points=\"2480.5,-53 2367.5,-53 2367.5,0 2480.5,0 2480.5,-53\"/>\n",
       "<text text-anchor=\"middle\" x=\"2424\" y=\"-37.8\" font-family=\"Times,serif\" font-size=\"14.00\" fill=\"#000000\">samples = 126</text>\n",
       "<text text-anchor=\"middle\" x=\"2424\" y=\"-22.8\" font-family=\"Times,serif\" font-size=\"14.00\" fill=\"#000000\">value = [108, 18]</text>\n",
       "<text text-anchor=\"middle\" x=\"2424\" y=\"-7.8\" font-family=\"Times,serif\" font-size=\"14.00\" fill=\"#000000\">class = Yes</text>\n",
       "</g>\n",
       "<!-- 38&#45;&gt;40 -->\n",
       "<g id=\"edge40\" class=\"edge\">\n",
       "<title>38&#45;&gt;40</title>\n",
       "<path fill=\"none\" stroke=\"#000000\" d=\"M2386.4486,-88.9777C2391.7322,-80.187 2397.4316,-70.7044 2402.7548,-61.8477\"/>\n",
       "<polygon fill=\"#000000\" stroke=\"#000000\" points=\"2405.7715,-63.6225 2407.9232,-53.2485 2399.7718,-60.0165 2405.7715,-63.6225\"/>\n",
       "</g>\n",
       "<!-- 42 -->\n",
       "<g id=\"node43\" class=\"node\">\n",
       "<title>42</title>\n",
       "<polygon fill=\"#f0b58a\" stroke=\"#000000\" points=\"2678,-157 2558,-157 2558,-89 2678,-89 2678,-157\"/>\n",
       "<text text-anchor=\"middle\" x=\"2618\" y=\"-141.8\" font-family=\"Times,serif\" font-size=\"14.00\" fill=\"#000000\">Height &lt;= &#45;0.623</text>\n",
       "<text text-anchor=\"middle\" x=\"2618\" y=\"-126.8\" font-family=\"Times,serif\" font-size=\"14.00\" fill=\"#000000\">samples = 554</text>\n",
       "<text text-anchor=\"middle\" x=\"2618\" y=\"-111.8\" font-family=\"Times,serif\" font-size=\"14.00\" fill=\"#000000\">value = [393, 161]</text>\n",
       "<text text-anchor=\"middle\" x=\"2618\" y=\"-96.8\" font-family=\"Times,serif\" font-size=\"14.00\" fill=\"#000000\">class = Yes</text>\n",
       "</g>\n",
       "<!-- 41&#45;&gt;42 -->\n",
       "<g id=\"edge42\" class=\"edge\">\n",
       "<title>41&#45;&gt;42</title>\n",
       "<path fill=\"none\" stroke=\"#000000\" d=\"M2618,-192.9465C2618,-184.776 2618,-175.9318 2618,-167.3697\"/>\n",
       "<polygon fill=\"#000000\" stroke=\"#000000\" points=\"2621.5001,-167.13 2618,-157.13 2614.5001,-167.13 2621.5001,-167.13\"/>\n",
       "</g>\n",
       "<!-- 45 -->\n",
       "<g id=\"node46\" class=\"node\">\n",
       "<title>45</title>\n",
       "<polygon fill=\"#a1d0f3\" stroke=\"#000000\" points=\"2867,-157 2761,-157 2761,-89 2867,-89 2867,-157\"/>\n",
       "<text text-anchor=\"middle\" x=\"2814\" y=\"-141.8\" font-family=\"Times,serif\" font-size=\"14.00\" fill=\"#000000\">DB &lt;= 0.021</text>\n",
       "<text text-anchor=\"middle\" x=\"2814\" y=\"-126.8\" font-family=\"Times,serif\" font-size=\"14.00\" fill=\"#000000\">samples = 64</text>\n",
       "<text text-anchor=\"middle\" x=\"2814\" y=\"-111.8\" font-family=\"Times,serif\" font-size=\"14.00\" fill=\"#000000\">value = [22, 42]</text>\n",
       "<text text-anchor=\"middle\" x=\"2814\" y=\"-96.8\" font-family=\"Times,serif\" font-size=\"14.00\" fill=\"#000000\">class = No</text>\n",
       "</g>\n",
       "<!-- 41&#45;&gt;45 -->\n",
       "<g id=\"edge45\" class=\"edge\">\n",
       "<title>41&#45;&gt;45</title>\n",
       "<path fill=\"none\" stroke=\"#000000\" d=\"M2678.1385,-195.0898C2701.5872,-182.6476 2728.4534,-168.3921 2752.0712,-155.8602\"/>\n",
       "<polygon fill=\"#000000\" stroke=\"#000000\" points=\"2753.757,-158.9279 2760.95,-151.149 2750.476,-152.7445 2753.757,-158.9279\"/>\n",
       "</g>\n",
       "<!-- 43 -->\n",
       "<g id=\"node44\" class=\"node\">\n",
       "<title>43</title>\n",
       "<polygon fill=\"#99ccf2\" stroke=\"#000000\" points=\"2605,-53 2499,-53 2499,0 2605,0 2605,-53\"/>\n",
       "<text text-anchor=\"middle\" x=\"2552\" y=\"-37.8\" font-family=\"Times,serif\" font-size=\"14.00\" fill=\"#000000\">samples = 46</text>\n",
       "<text text-anchor=\"middle\" x=\"2552\" y=\"-22.8\" font-family=\"Times,serif\" font-size=\"14.00\" fill=\"#000000\">value = [15, 31]</text>\n",
       "<text text-anchor=\"middle\" x=\"2552\" y=\"-7.8\" font-family=\"Times,serif\" font-size=\"14.00\" fill=\"#000000\">class = No</text>\n",
       "</g>\n",
       "<!-- 42&#45;&gt;43 -->\n",
       "<g id=\"edge43\" class=\"edge\">\n",
       "<title>42&#45;&gt;43</title>\n",
       "<path fill=\"none\" stroke=\"#000000\" d=\"M2594.7309,-88.9777C2588.656,-80.0954 2582.0979,-70.5067 2575.9865,-61.5711\"/>\n",
       "<polygon fill=\"#000000\" stroke=\"#000000\" points=\"2578.8286,-59.5267 2570.2943,-53.2485 2573.0507,-63.4785 2578.8286,-59.5267\"/>\n",
       "</g>\n",
       "<!-- 44 -->\n",
       "<g id=\"node45\" class=\"node\">\n",
       "<title>44</title>\n",
       "<polygon fill=\"#eeac7d\" stroke=\"#000000\" points=\"2743,-53 2623,-53 2623,0 2743,0 2743,-53\"/>\n",
       "<text text-anchor=\"middle\" x=\"2683\" y=\"-37.8\" font-family=\"Times,serif\" font-size=\"14.00\" fill=\"#000000\">samples = 508</text>\n",
       "<text text-anchor=\"middle\" x=\"2683\" y=\"-22.8\" font-family=\"Times,serif\" font-size=\"14.00\" fill=\"#000000\">value = [378, 130]</text>\n",
       "<text text-anchor=\"middle\" x=\"2683\" y=\"-7.8\" font-family=\"Times,serif\" font-size=\"14.00\" fill=\"#000000\">class = Yes</text>\n",
       "</g>\n",
       "<!-- 42&#45;&gt;44 -->\n",
       "<g id=\"edge44\" class=\"edge\">\n",
       "<title>42&#45;&gt;44</title>\n",
       "<path fill=\"none\" stroke=\"#000000\" d=\"M2640.9166,-88.9777C2646.8994,-80.0954 2653.3582,-70.5067 2659.377,-61.5711\"/>\n",
       "<polygon fill=\"#000000\" stroke=\"#000000\" points=\"2662.2991,-63.4978 2664.9829,-53.2485 2656.4933,-59.5871 2662.2991,-63.4978\"/>\n",
       "</g>\n",
       "<!-- 46 -->\n",
       "<g id=\"node47\" class=\"node\">\n",
       "<title>46</title>\n",
       "<polygon fill=\"#ebf5fc\" stroke=\"#000000\" points=\"2867,-53 2761,-53 2761,0 2867,0 2867,-53\"/>\n",
       "<text text-anchor=\"middle\" x=\"2814\" y=\"-37.8\" font-family=\"Times,serif\" font-size=\"14.00\" fill=\"#000000\">samples = 38</text>\n",
       "<text text-anchor=\"middle\" x=\"2814\" y=\"-22.8\" font-family=\"Times,serif\" font-size=\"14.00\" fill=\"#000000\">value = [18, 20]</text>\n",
       "<text text-anchor=\"middle\" x=\"2814\" y=\"-7.8\" font-family=\"Times,serif\" font-size=\"14.00\" fill=\"#000000\">class = No</text>\n",
       "</g>\n",
       "<!-- 45&#45;&gt;46 -->\n",
       "<g id=\"edge46\" class=\"edge\">\n",
       "<title>45&#45;&gt;46</title>\n",
       "<path fill=\"none\" stroke=\"#000000\" d=\"M2814,-88.9777C2814,-80.7364 2814,-71.887 2814,-63.5153\"/>\n",
       "<polygon fill=\"#000000\" stroke=\"#000000\" points=\"2817.5001,-63.2484 2814,-53.2485 2810.5001,-63.2485 2817.5001,-63.2484\"/>\n",
       "</g>\n",
       "<!-- 47 -->\n",
       "<g id=\"node48\" class=\"node\">\n",
       "<title>47</title>\n",
       "<polygon fill=\"#5dafea\" stroke=\"#000000\" points=\"2984.5,-53 2885.5,-53 2885.5,0 2984.5,0 2984.5,-53\"/>\n",
       "<text text-anchor=\"middle\" x=\"2935\" y=\"-37.8\" font-family=\"Times,serif\" font-size=\"14.00\" fill=\"#000000\">samples = 26</text>\n",
       "<text text-anchor=\"middle\" x=\"2935\" y=\"-22.8\" font-family=\"Times,serif\" font-size=\"14.00\" fill=\"#000000\">value = [4, 22]</text>\n",
       "<text text-anchor=\"middle\" x=\"2935\" y=\"-7.8\" font-family=\"Times,serif\" font-size=\"14.00\" fill=\"#000000\">class = No</text>\n",
       "</g>\n",
       "<!-- 45&#45;&gt;47 -->\n",
       "<g id=\"edge47\" class=\"edge\">\n",
       "<title>45&#45;&gt;47</title>\n",
       "<path fill=\"none\" stroke=\"#000000\" d=\"M2856.6601,-88.9777C2868.6011,-79.4545 2881.5605,-69.1191 2893.437,-59.6473\"/>\n",
       "<polygon fill=\"#000000\" stroke=\"#000000\" points=\"2895.8246,-62.22 2901.4605,-53.2485 2891.46,-56.7473 2895.8246,-62.22\"/>\n",
       "</g>\n",
       "<!-- 49 -->\n",
       "<g id=\"node50\" class=\"node\">\n",
       "<title>49</title>\n",
       "<polygon fill=\"#fae9dc\" stroke=\"#000000\" points=\"3312,-261 3192,-261 3192,-193 3312,-193 3312,-261\"/>\n",
       "<text text-anchor=\"middle\" x=\"3252\" y=\"-245.8\" font-family=\"Times,serif\" font-size=\"14.00\" fill=\"#000000\">Weight &lt;= 0.923</text>\n",
       "<text text-anchor=\"middle\" x=\"3252\" y=\"-230.8\" font-family=\"Times,serif\" font-size=\"14.00\" fill=\"#000000\">samples = 638</text>\n",
       "<text text-anchor=\"middle\" x=\"3252\" y=\"-215.8\" font-family=\"Times,serif\" font-size=\"14.00\" fill=\"#000000\">value = [350, 288]</text>\n",
       "<text text-anchor=\"middle\" x=\"3252\" y=\"-200.8\" font-family=\"Times,serif\" font-size=\"14.00\" fill=\"#000000\">class = Yes</text>\n",
       "</g>\n",
       "<!-- 48&#45;&gt;49 -->\n",
       "<g id=\"edge49\" class=\"edge\">\n",
       "<title>48&#45;&gt;49</title>\n",
       "<path fill=\"none\" stroke=\"#000000\" d=\"M3252,-296.9465C3252,-288.776 3252,-279.9318 3252,-271.3697\"/>\n",
       "<polygon fill=\"#000000\" stroke=\"#000000\" points=\"3255.5001,-271.13 3252,-261.13 3248.5001,-271.13 3255.5001,-271.13\"/>\n",
       "</g>\n",
       "<!-- 56 -->\n",
       "<g id=\"node57\" class=\"node\">\n",
       "<title>56</title>\n",
       "<polygon fill=\"#91c9f1\" stroke=\"#000000\" points=\"3680,-261 3560,-261 3560,-193 3680,-193 3680,-261\"/>\n",
       "<text text-anchor=\"middle\" x=\"3620\" y=\"-245.8\" font-family=\"Times,serif\" font-size=\"14.00\" fill=\"#000000\">TG &lt;= &#45;0.056</text>\n",
       "<text text-anchor=\"middle\" x=\"3620\" y=\"-230.8\" font-family=\"Times,serif\" font-size=\"14.00\" fill=\"#000000\">samples = 899</text>\n",
       "<text text-anchor=\"middle\" x=\"3620\" y=\"-215.8\" font-family=\"Times,serif\" font-size=\"14.00\" fill=\"#000000\">value = [277, 622]</text>\n",
       "<text text-anchor=\"middle\" x=\"3620\" y=\"-200.8\" font-family=\"Times,serif\" font-size=\"14.00\" fill=\"#000000\">class = No</text>\n",
       "</g>\n",
       "<!-- 48&#45;&gt;56 -->\n",
       "<g id=\"edge56\" class=\"edge\">\n",
       "<title>48&#45;&gt;56</title>\n",
       "<path fill=\"none\" stroke=\"#000000\" d=\"M3312.3556,-313.943C3377.5598,-295.5157 3481.32,-266.1922 3550.0409,-246.7711\"/>\n",
       "<polygon fill=\"#000000\" stroke=\"#000000\" points=\"3551.2458,-250.0677 3559.917,-243.98 3549.3421,-243.3315 3551.2458,-250.0677\"/>\n",
       "</g>\n",
       "<!-- 50 -->\n",
       "<g id=\"node51\" class=\"node\">\n",
       "<title>50</title>\n",
       "<polygon fill=\"#f1bd97\" stroke=\"#000000\" points=\"3240.5,-157 3127.5,-157 3127.5,-89 3240.5,-89 3240.5,-157\"/>\n",
       "<text text-anchor=\"middle\" x=\"3184\" y=\"-141.8\" font-family=\"Times,serif\" font-size=\"14.00\" fill=\"#000000\">TG &lt;= 0.155</text>\n",
       "<text text-anchor=\"middle\" x=\"3184\" y=\"-126.8\" font-family=\"Times,serif\" font-size=\"14.00\" fill=\"#000000\">samples = 298</text>\n",
       "<text text-anchor=\"middle\" x=\"3184\" y=\"-111.8\" font-family=\"Times,serif\" font-size=\"14.00\" fill=\"#000000\">value = [202, 96]</text>\n",
       "<text text-anchor=\"middle\" x=\"3184\" y=\"-96.8\" font-family=\"Times,serif\" font-size=\"14.00\" fill=\"#000000\">class = Yes</text>\n",
       "</g>\n",
       "<!-- 49&#45;&gt;50 -->\n",
       "<g id=\"edge50\" class=\"edge\">\n",
       "<title>49&#45;&gt;50</title>\n",
       "<path fill=\"none\" stroke=\"#000000\" d=\"M3229.7343,-192.9465C3224.0398,-184.2373 3217.8448,-174.7626 3211.9062,-165.6801\"/>\n",
       "<polygon fill=\"#000000\" stroke=\"#000000\" points=\"3214.7177,-163.5843 3206.3158,-157.13 3208.8589,-167.4151 3214.7177,-163.5843\"/>\n",
       "</g>\n",
       "<!-- 53 -->\n",
       "<g id=\"node54\" class=\"node\">\n",
       "<title>53</title>\n",
       "<polygon fill=\"#d2e9f9\" stroke=\"#000000\" points=\"3379,-157 3259,-157 3259,-89 3379,-89 3379,-157\"/>\n",
       "<text text-anchor=\"middle\" x=\"3319\" y=\"-141.8\" font-family=\"Times,serif\" font-size=\"14.00\" fill=\"#000000\">Height &lt;= 1.259</text>\n",
       "<text text-anchor=\"middle\" x=\"3319\" y=\"-126.8\" font-family=\"Times,serif\" font-size=\"14.00\" fill=\"#000000\">samples = 340</text>\n",
       "<text text-anchor=\"middle\" x=\"3319\" y=\"-111.8\" font-family=\"Times,serif\" font-size=\"14.00\" fill=\"#000000\">value = [148, 192]</text>\n",
       "<text text-anchor=\"middle\" x=\"3319\" y=\"-96.8\" font-family=\"Times,serif\" font-size=\"14.00\" fill=\"#000000\">class = No</text>\n",
       "</g>\n",
       "<!-- 49&#45;&gt;53 -->\n",
       "<g id=\"edge53\" class=\"edge\">\n",
       "<title>49&#45;&gt;53</title>\n",
       "<path fill=\"none\" stroke=\"#000000\" d=\"M3273.9383,-192.9465C3279.549,-184.2373 3285.6529,-174.7626 3291.5042,-165.6801\"/>\n",
       "<polygon fill=\"#000000\" stroke=\"#000000\" points=\"3294.5389,-167.4321 3297.0124,-157.13 3288.6543,-163.641 3294.5389,-167.4321\"/>\n",
       "</g>\n",
       "<!-- 51 -->\n",
       "<g id=\"node52\" class=\"node\">\n",
       "<title>51</title>\n",
       "<polygon fill=\"#eca470\" stroke=\"#000000\" points=\"3115.5,-53 3002.5,-53 3002.5,0 3115.5,0 3115.5,-53\"/>\n",
       "<text text-anchor=\"middle\" x=\"3059\" y=\"-37.8\" font-family=\"Times,serif\" font-size=\"14.00\" fill=\"#000000\">samples = 175</text>\n",
       "<text text-anchor=\"middle\" x=\"3059\" y=\"-22.8\" font-family=\"Times,serif\" font-size=\"14.00\" fill=\"#000000\">value = [137, 38]</text>\n",
       "<text text-anchor=\"middle\" x=\"3059\" y=\"-7.8\" font-family=\"Times,serif\" font-size=\"14.00\" fill=\"#000000\">class = Yes</text>\n",
       "</g>\n",
       "<!-- 50&#45;&gt;51 -->\n",
       "<g id=\"edge51\" class=\"edge\">\n",
       "<title>50&#45;&gt;51</title>\n",
       "<path fill=\"none\" stroke=\"#000000\" d=\"M3139.9297,-88.9777C3127.4752,-79.3629 3113.9485,-68.9203 3101.5833,-59.3743\"/>\n",
       "<polygon fill=\"#000000\" stroke=\"#000000\" points=\"3103.7028,-56.5889 3093.6483,-53.2485 3099.4251,-62.1299 3103.7028,-56.5889\"/>\n",
       "</g>\n",
       "<!-- 52 -->\n",
       "<g id=\"node53\" class=\"node\">\n",
       "<title>52</title>\n",
       "<polygon fill=\"#fcf1ea\" stroke=\"#000000\" points=\"3240,-53 3134,-53 3134,0 3240,0 3240,-53\"/>\n",
       "<text text-anchor=\"middle\" x=\"3187\" y=\"-37.8\" font-family=\"Times,serif\" font-size=\"14.00\" fill=\"#000000\">samples = 123</text>\n",
       "<text text-anchor=\"middle\" x=\"3187\" y=\"-22.8\" font-family=\"Times,serif\" font-size=\"14.00\" fill=\"#000000\">value = [65, 58]</text>\n",
       "<text text-anchor=\"middle\" x=\"3187\" y=\"-7.8\" font-family=\"Times,serif\" font-size=\"14.00\" fill=\"#000000\">class = Yes</text>\n",
       "</g>\n",
       "<!-- 50&#45;&gt;52 -->\n",
       "<g id=\"edge52\" class=\"edge\">\n",
       "<title>50&#45;&gt;52</title>\n",
       "<path fill=\"none\" stroke=\"#000000\" d=\"M3185.0577,-88.9777C3185.3139,-80.7364 3185.589,-71.887 3185.8493,-63.5153\"/>\n",
       "<polygon fill=\"#000000\" stroke=\"#000000\" points=\"3189.3559,-63.3524 3186.1684,-53.2485 3182.3593,-63.1349 3189.3559,-63.3524\"/>\n",
       "</g>\n",
       "<!-- 54 -->\n",
       "<g id=\"node55\" class=\"node\">\n",
       "<title>54</title>\n",
       "<polygon fill=\"#add6f4\" stroke=\"#000000\" points=\"3371.5,-53 3258.5,-53 3258.5,0 3371.5,0 3371.5,-53\"/>\n",
       "<text text-anchor=\"middle\" x=\"3315\" y=\"-37.8\" font-family=\"Times,serif\" font-size=\"14.00\" fill=\"#000000\">samples = 255</text>\n",
       "<text text-anchor=\"middle\" x=\"3315\" y=\"-22.8\" font-family=\"Times,serif\" font-size=\"14.00\" fill=\"#000000\">value = [94, 161]</text>\n",
       "<text text-anchor=\"middle\" x=\"3315\" y=\"-7.8\" font-family=\"Times,serif\" font-size=\"14.00\" fill=\"#000000\">class = No</text>\n",
       "</g>\n",
       "<!-- 53&#45;&gt;54 -->\n",
       "<g id=\"edge54\" class=\"edge\">\n",
       "<title>53&#45;&gt;54</title>\n",
       "<path fill=\"none\" stroke=\"#000000\" d=\"M3317.5897,-88.9777C3317.2481,-80.7364 3316.8813,-71.887 3316.5343,-63.5153\"/>\n",
       "<polygon fill=\"#000000\" stroke=\"#000000\" points=\"3320.02,-63.0949 3316.1087,-53.2485 3313.026,-63.3849 3320.02,-63.0949\"/>\n",
       "</g>\n",
       "<!-- 55 -->\n",
       "<g id=\"node56\" class=\"node\">\n",
       "<title>55</title>\n",
       "<polygon fill=\"#f4c9ab\" stroke=\"#000000\" points=\"3496,-53 3390,-53 3390,0 3496,0 3496,-53\"/>\n",
       "<text text-anchor=\"middle\" x=\"3443\" y=\"-37.8\" font-family=\"Times,serif\" font-size=\"14.00\" fill=\"#000000\">samples = 85</text>\n",
       "<text text-anchor=\"middle\" x=\"3443\" y=\"-22.8\" font-family=\"Times,serif\" font-size=\"14.00\" fill=\"#000000\">value = [54, 31]</text>\n",
       "<text text-anchor=\"middle\" x=\"3443\" y=\"-7.8\" font-family=\"Times,serif\" font-size=\"14.00\" fill=\"#000000\">class = Yes</text>\n",
       "</g>\n",
       "<!-- 53&#45;&gt;55 -->\n",
       "<g id=\"edge55\" class=\"edge\">\n",
       "<title>53&#45;&gt;55</title>\n",
       "<path fill=\"none\" stroke=\"#000000\" d=\"M3362.7178,-88.9777C3374.9549,-79.4545 3388.2355,-69.1191 3400.4066,-59.6473\"/>\n",
       "<polygon fill=\"#000000\" stroke=\"#000000\" points=\"3402.8866,-62.1523 3408.6289,-53.2485 3398.5875,-56.628 3402.8866,-62.1523\"/>\n",
       "</g>\n",
       "<!-- 57 -->\n",
       "<g id=\"node58\" class=\"node\">\n",
       "<title>57</title>\n",
       "<polygon fill=\"#eaf5fc\" stroke=\"#000000\" points=\"3680,-157 3560,-157 3560,-89 3680,-89 3680,-157\"/>\n",
       "<text text-anchor=\"middle\" x=\"3620\" y=\"-141.8\" font-family=\"Times,serif\" font-size=\"14.00\" fill=\"#000000\">Age &lt;= &#45;0.506</text>\n",
       "<text text-anchor=\"middle\" x=\"3620\" y=\"-126.8\" font-family=\"Times,serif\" font-size=\"14.00\" fill=\"#000000\">samples = 254</text>\n",
       "<text text-anchor=\"middle\" x=\"3620\" y=\"-111.8\" font-family=\"Times,serif\" font-size=\"14.00\" fill=\"#000000\">value = [120, 134]</text>\n",
       "<text text-anchor=\"middle\" x=\"3620\" y=\"-96.8\" font-family=\"Times,serif\" font-size=\"14.00\" fill=\"#000000\">class = No</text>\n",
       "</g>\n",
       "<!-- 56&#45;&gt;57 -->\n",
       "<g id=\"edge57\" class=\"edge\">\n",
       "<title>56&#45;&gt;57</title>\n",
       "<path fill=\"none\" stroke=\"#000000\" d=\"M3620,-192.9465C3620,-184.776 3620,-175.9318 3620,-167.3697\"/>\n",
       "<polygon fill=\"#000000\" stroke=\"#000000\" points=\"3623.5001,-167.13 3620,-157.13 3616.5001,-167.13 3623.5001,-167.13\"/>\n",
       "</g>\n",
       "<!-- 60 -->\n",
       "<g id=\"node61\" class=\"node\">\n",
       "<title>60</title>\n",
       "<polygon fill=\"#79bded\" stroke=\"#000000\" points=\"3872,-157 3752,-157 3752,-89 3872,-89 3872,-157\"/>\n",
       "<text text-anchor=\"middle\" x=\"3812\" y=\"-141.8\" font-family=\"Times,serif\" font-size=\"14.00\" fill=\"#000000\">Age &lt;= &#45;1.537</text>\n",
       "<text text-anchor=\"middle\" x=\"3812\" y=\"-126.8\" font-family=\"Times,serif\" font-size=\"14.00\" fill=\"#000000\">samples = 645</text>\n",
       "<text text-anchor=\"middle\" x=\"3812\" y=\"-111.8\" font-family=\"Times,serif\" font-size=\"14.00\" fill=\"#000000\">value = [157, 488]</text>\n",
       "<text text-anchor=\"middle\" x=\"3812\" y=\"-96.8\" font-family=\"Times,serif\" font-size=\"14.00\" fill=\"#000000\">class = No</text>\n",
       "</g>\n",
       "<!-- 56&#45;&gt;60 -->\n",
       "<g id=\"edge60\" class=\"edge\">\n",
       "<title>56&#45;&gt;60</title>\n",
       "<path fill=\"none\" stroke=\"#000000\" d=\"M3680.2232,-194.3791C3700.1493,-183.5858 3722.4752,-171.4926 3743.0069,-160.3712\"/>\n",
       "<polygon fill=\"#000000\" stroke=\"#000000\" points=\"3744.8646,-163.3456 3751.9905,-155.5052 3741.5305,-157.1905 3744.8646,-163.3456\"/>\n",
       "</g>\n",
       "<!-- 58 -->\n",
       "<g id=\"node59\" class=\"node\">\n",
       "<title>58</title>\n",
       "<polygon fill=\"#f6d1b7\" stroke=\"#000000\" points=\"3620,-53 3514,-53 3514,0 3620,0 3620,-53\"/>\n",
       "<text text-anchor=\"middle\" x=\"3567\" y=\"-37.8\" font-family=\"Times,serif\" font-size=\"14.00\" fill=\"#000000\">samples = 113</text>\n",
       "<text text-anchor=\"middle\" x=\"3567\" y=\"-22.8\" font-family=\"Times,serif\" font-size=\"14.00\" fill=\"#000000\">value = [69, 44]</text>\n",
       "<text text-anchor=\"middle\" x=\"3567\" y=\"-7.8\" font-family=\"Times,serif\" font-size=\"14.00\" fill=\"#000000\">class = Yes</text>\n",
       "</g>\n",
       "<!-- 57&#45;&gt;58 -->\n",
       "<g id=\"edge58\" class=\"edge\">\n",
       "<title>57&#45;&gt;58</title>\n",
       "<path fill=\"none\" stroke=\"#000000\" d=\"M3601.3142,-88.9777C3596.5364,-80.2786 3591.3865,-70.9018 3586.5659,-62.1247\"/>\n",
       "<polygon fill=\"#000000\" stroke=\"#000000\" points=\"3589.5726,-60.3286 3581.6909,-53.2485 3583.4371,-63.6984 3589.5726,-60.3286\"/>\n",
       "</g>\n",
       "<!-- 59 -->\n",
       "<g id=\"node60\" class=\"node\">\n",
       "<title>59</title>\n",
       "<polygon fill=\"#a9d5f4\" stroke=\"#000000\" points=\"3744,-53 3638,-53 3638,0 3744,0 3744,-53\"/>\n",
       "<text text-anchor=\"middle\" x=\"3691\" y=\"-37.8\" font-family=\"Times,serif\" font-size=\"14.00\" fill=\"#000000\">samples = 141</text>\n",
       "<text text-anchor=\"middle\" x=\"3691\" y=\"-22.8\" font-family=\"Times,serif\" font-size=\"14.00\" fill=\"#000000\">value = [51, 90]</text>\n",
       "<text text-anchor=\"middle\" x=\"3691\" y=\"-7.8\" font-family=\"Times,serif\" font-size=\"14.00\" fill=\"#000000\">class = No</text>\n",
       "</g>\n",
       "<!-- 57&#45;&gt;59 -->\n",
       "<g id=\"edge59\" class=\"edge\">\n",
       "<title>57&#45;&gt;59</title>\n",
       "<path fill=\"none\" stroke=\"#000000\" d=\"M3645.0319,-88.9777C3651.5671,-80.0954 3658.622,-70.5067 3665.1964,-61.5711\"/>\n",
       "<polygon fill=\"#000000\" stroke=\"#000000\" points=\"3668.2126,-63.3775 3671.3198,-53.2485 3662.5743,-59.229 3668.2126,-63.3775\"/>\n",
       "</g>\n",
       "<!-- 61 -->\n",
       "<g id=\"node62\" class=\"node\">\n",
       "<title>61</title>\n",
       "<polygon fill=\"#efb286\" stroke=\"#000000\" points=\"3861.5,-53 3762.5,-53 3762.5,0 3861.5,0 3861.5,-53\"/>\n",
       "<text text-anchor=\"middle\" x=\"3812\" y=\"-37.8\" font-family=\"Times,serif\" font-size=\"14.00\" fill=\"#000000\">samples = 25</text>\n",
       "<text text-anchor=\"middle\" x=\"3812\" y=\"-22.8\" font-family=\"Times,serif\" font-size=\"14.00\" fill=\"#000000\">value = [18, 7]</text>\n",
       "<text text-anchor=\"middle\" x=\"3812\" y=\"-7.8\" font-family=\"Times,serif\" font-size=\"14.00\" fill=\"#000000\">class = Yes</text>\n",
       "</g>\n",
       "<!-- 60&#45;&gt;61 -->\n",
       "<g id=\"edge61\" class=\"edge\">\n",
       "<title>60&#45;&gt;61</title>\n",
       "<path fill=\"none\" stroke=\"#000000\" d=\"M3812,-88.9777C3812,-80.7364 3812,-71.887 3812,-63.5153\"/>\n",
       "<polygon fill=\"#000000\" stroke=\"#000000\" points=\"3815.5001,-63.2484 3812,-53.2485 3808.5001,-63.2485 3815.5001,-63.2484\"/>\n",
       "</g>\n",
       "<!-- 62 -->\n",
       "<g id=\"node63\" class=\"node\">\n",
       "<title>62</title>\n",
       "<polygon fill=\"#72b9ed\" stroke=\"#000000\" points=\"4000,-53 3880,-53 3880,0 4000,0 4000,-53\"/>\n",
       "<text text-anchor=\"middle\" x=\"3940\" y=\"-37.8\" font-family=\"Times,serif\" font-size=\"14.00\" fill=\"#000000\">samples = 620</text>\n",
       "<text text-anchor=\"middle\" x=\"3940\" y=\"-22.8\" font-family=\"Times,serif\" font-size=\"14.00\" fill=\"#000000\">value = [139, 481]</text>\n",
       "<text text-anchor=\"middle\" x=\"3940\" y=\"-7.8\" font-family=\"Times,serif\" font-size=\"14.00\" fill=\"#000000\">class = No</text>\n",
       "</g>\n",
       "<!-- 60&#45;&gt;62 -->\n",
       "<g id=\"edge62\" class=\"edge\">\n",
       "<title>60&#45;&gt;62</title>\n",
       "<path fill=\"none\" stroke=\"#000000\" d=\"M3857.128,-88.9777C3869.8813,-79.3629 3883.7327,-68.9203 3896.3947,-59.3743\"/>\n",
       "<polygon fill=\"#000000\" stroke=\"#000000\" points=\"3898.6421,-62.0632 3904.5202,-53.2485 3894.4281,-56.4737 3898.6421,-62.0632\"/>\n",
       "</g>\n",
       "</g>\n",
       "</svg>\n"
      ],
      "text/plain": [
       "<graphviz.files.Source at 0x1a2f1139b0>"
      ]
     },
     "metadata": {},
     "output_type": "display_data"
    }
   ],
   "source": [
    "import graphviz\n",
    "\n",
    "with open(\"NALD_tree.dot\") as f: \n",
    "    dot_graph = f.read()\n",
    "display(graphviz.Source(dot_graph))"
   ]
  },
  {
   "cell_type": "markdown",
   "metadata": {},
   "source": [
    "### Try the random Forest model"
   ]
  },
  {
   "cell_type": "code",
   "execution_count": 75,
   "metadata": {},
   "outputs": [
    {
     "name": "stdout",
     "output_type": "stream",
     "text": [
      "Training accuracy is:  1.0\n",
      "Testing accuracy is:  0.9167362270450752\n"
     ]
    }
   ],
   "source": [
    "from sklearn.ensemble.forest import RandomForestClassifier\n",
    "forest = RandomForestClassifier(n_estimators = 100, random_state = 46)\n",
    "forest.fit(X_train_prepared, y_train)\n",
    "print(\"Training accuracy is: \", forest.score(X_train_prepared, y_train))\n",
    "print(\"Testing accuracy is: \", forest.score(X_test_prepared, y_test))"
   ]
  },
  {
   "cell_type": "code",
   "execution_count": 76,
   "metadata": {},
   "outputs": [
    {
     "data": {
      "text/plain": [
       "20"
      ]
     },
     "execution_count": 76,
     "metadata": {},
     "output_type": "execute_result"
    }
   ],
   "source": [
    "len(tree.feature_importances_)"
   ]
  },
  {
   "cell_type": "code",
   "execution_count": 90,
   "metadata": {
    "scrolled": true
   },
   "outputs": [
    {
     "name": "stdout",
     "output_type": "stream",
     "text": [
      "Age :  0.042352046796713706\n",
      "Height :  0.021230128251939883\n",
      "Weight :  0.5199961364777095\n",
      "ALT :  0.07600471214373224\n",
      "AST :  0.002557974750248966\n",
      "ALP :  0.0\n",
      "GGT :  0.04237294427279993\n",
      "TB :  0.0\n",
      "DB :  0.0\n",
      "IB :  0.0\n",
      "TC :  0.0060760923622961\n",
      "TG :  0.2446905518919494\n",
      "HDL :  0.005697847214068484\n",
      "LDL :  0.0\n",
      "Bun :  0.0\n",
      "Cr :  0.015809579167823436\n",
      "Glu :  0.016807973311897356\n",
      "Uric :  0.006404013358820954\n",
      "Gender1 :  0.0\n",
      "Gender0 :  0.0\n"
     ]
    }
   ],
   "source": [
    "num_attributes_combine2 = list(num_attributes)+ [\"Gender1\", 'Gender0']\n",
    "important_features = []\n",
    "for label, feature in zip(num_attributes_combine2, tree.feature_importances_):  ## wrong\n",
    "    important_features.append({label: feature})"
   ]
  },
  {
   "cell_type": "code",
   "execution_count": 82,
   "metadata": {},
   "outputs": [
    {
     "data": {
      "text/plain": [
       "[{'Age': 0.042352046796713706},\n",
       " {'Height': 0.021230128251939883},\n",
       " {'Weight': 0.5199961364777095},\n",
       " {'ALT': 0.07600471214373224},\n",
       " {'AST': 0.002557974750248966},\n",
       " {'ALP': 0.0},\n",
       " {'GGT': 0.04237294427279993},\n",
       " {'TB': 0.0},\n",
       " {'DB': 0.0},\n",
       " {'IB': 0.0},\n",
       " {'TC': 0.0060760923622961},\n",
       " {'TG': 0.2446905518919494},\n",
       " {'HDL': 0.005697847214068484},\n",
       " {'LDL': 0.0},\n",
       " {'Bun': 0.0},\n",
       " {'Cr': 0.015809579167823436},\n",
       " {'Glu': 0.016807973311897356},\n",
       " {'Uric': 0.006404013358820954},\n",
       " {'Gender1': 0.0},\n",
       " {'Gender0': 0.0}]"
      ]
     },
     "execution_count": 82,
     "metadata": {},
     "output_type": "execute_result"
    }
   ],
   "source": [
    "important_features"
   ]
  },
  {
   "cell_type": "markdown",
   "metadata": {},
   "source": [
    "### Draw a feature importance graph"
   ]
  },
  {
   "cell_type": "markdown",
   "metadata": {},
   "source": [
    "### Try gradient boosting calssifier"
   ]
  },
  {
   "cell_type": "code",
   "execution_count": 98,
   "metadata": {},
   "outputs": [
    {
     "name": "stdout",
     "output_type": "stream",
     "text": [
      "Training accuracy is:  0.8083184257602862\n",
      "Testing accuracy is:  0.7923622704507512\n"
     ]
    }
   ],
   "source": [
    "from sklearn.ensemble import GradientBoostingClassifier\n",
    "gbrt = GradientBoostingClassifier(random_state = 0, max_depth =1)\n",
    "gbrt.fit(X_train_prepared, y_train)\n",
    "print(\"Training accuracy is: \", gbrt.score(X_train_prepared, y_train))\n",
    "print(\"Testing accuracy is: \", gbrt.score(X_test_prepared, y_test))"
   ]
  },
  {
   "cell_type": "code",
   "execution_count": 148,
   "metadata": {
    "scrolled": true
   },
   "outputs": [
    {
     "name": "stdout",
     "output_type": "stream",
     "text": [
      "Training accuracy is:  0.8327635717215917\n",
      "Testing accuracy is:  0.8248803827751197\n"
     ]
    }
   ],
   "source": [
    "gbrt = GradientBoostingClassifier(random_state = 0, max_depth =1)\n",
    "gbrt.fit(X_train_prepared, y_train)\n",
    "print(\"Training accuracy is: \", gbrt.score(X_train_prepared, y_train))\n",
    "print(\"Testing accuracy is: \", gbrt.score(X_test_prepared, y_test))"
   ]
  },
  {
   "cell_type": "markdown",
   "metadata": {},
   "source": [
    "## calculate auc and f1"
   ]
  },
  {
   "cell_type": "code",
   "execution_count": 99,
   "metadata": {},
   "outputs": [
    {
     "name": "stdout",
     "output_type": "stream",
     "text": [
      "knn F1 score:  0.8034120214243204\n",
      "logreg F1 score:  0.7978547854785478\n",
      "nb F1 score:  0.7025901942645698\n",
      "svm F1 score:  0.8361672334466893\n",
      "tree F1 score:  0.7803212851405622\n",
      "forest F1 score:  0.920533758215495\n",
      "gbrt F1 score:  0.7985422150232842\n"
     ]
    }
   ],
   "source": [
    "from sklearn.metrics import f1_score\n",
    "models = [knn, logreg, nb, svm, tree, forest, gbrt]\n",
    "model_names = [\"knn\", \"logreg\", \"nb\", \"svm\", \"tree\",\"forest\", \"gbrt\"]\n",
    "for i in range(len(models)):\n",
    "    y_pred = models[i].predict(X_test_prepared)\n",
    "    f1 =f1_score(y_test, y_pred, average='binary')\n",
    "    print(model_names[i], \"F1 score: \", f1)"
   ]
  },
  {
   "cell_type": "code",
   "execution_count": 100,
   "metadata": {},
   "outputs": [
    {
     "name": "stdout",
     "output_type": "stream",
     "text": [
      "knn Auc:  0.8695936257145326\n",
      "logreg Auc:  0.8790337471188765\n",
      "nb Auc:  0.8073984604279252\n",
      "tree Auc:  0.8441449786929245\n",
      "forest Auc:  0.9823004255840982\n",
      "gbrt Auc:  0.8750267383591461\n"
     ]
    }
   ],
   "source": [
    "from sklearn import metrics\n",
    "\n",
    "models2 = [knn, logreg, nb, tree, forest, gbrt]\n",
    "model_names2 = [\"knn\", \"logreg\", \"nb\", \"tree\",\"forest\", \"gbrt\"]\n",
    "for i in range(len(models2)):\n",
    "    preds_p = models2[i].predict_proba(X_test_prepared)[:,1]\n",
    "    fpr, tpr, threshold = metrics.roc_curve(y_test, preds_p)\n",
    "    roc_auc = metrics.auc(fpr, tpr)\n",
    "    print(model_names2[i], \"Auc: \", roc_auc)"
   ]
  },
  {
   "cell_type": "markdown",
   "metadata": {},
   "source": [
    "### Try gridSearchCV to fine tune parameters"
   ]
  },
  {
   "cell_type": "markdown",
   "metadata": {},
   "source": [
    "### To prevent information leaking, add the whole pipe into gridSearchCV()"
   ]
  },
  {
   "cell_type": "code",
   "execution_count": 120,
   "metadata": {},
   "outputs": [
    {
     "name": "stderr",
     "output_type": "stream",
     "text": [
      "/Users/pengl/anaconda3/lib/python3.7/site-packages/sklearn/linear_model/logistic.py:432: FutureWarning: Default solver will be changed to 'lbfgs' in 0.22. Specify a solver to silence this warning.\n",
      "  FutureWarning)\n"
     ]
    },
    {
     "data": {
      "text/plain": [
       "GridSearchCV(cv=10, error_score='raise-deprecating',\n",
       "             estimator=Pipeline(memory=None,\n",
       "                                steps=[('process',\n",
       "                                        ColumnTransformer(n_jobs=None,\n",
       "                                                          remainder='drop',\n",
       "                                                          sparse_threshold=0.3,\n",
       "                                                          transformer_weights=None,\n",
       "                                                          transformers=[('num',\n",
       "                                                                         Pipeline(memory=None,\n",
       "                                                                                  steps=[('scaler',\n",
       "                                                                                          StandardScaler(copy=True,\n",
       "                                                                                                         with_mean=True,\n",
       "                                                                                                         with_std=True))],\n",
       "                                                                                  verbose=False),\n",
       "                                                                         Index(['Age', 'Height', 'Wei...\n",
       "                                                           dual=False,\n",
       "                                                           fit_intercept=True,\n",
       "                                                           intercept_scaling=1,\n",
       "                                                           l1_ratio=None,\n",
       "                                                           max_iter=100,\n",
       "                                                           multi_class='warn',\n",
       "                                                           n_jobs=None,\n",
       "                                                           penalty='l2',\n",
       "                                                           random_state=None,\n",
       "                                                           solver='warn',\n",
       "                                                           tol=0.0001,\n",
       "                                                           verbose=0,\n",
       "                                                           warm_start=False))],\n",
       "                                verbose=False),\n",
       "             iid='warn', n_jobs=4, param_grid=[{'model__C': [0.1, 1, 10, 100]}],\n",
       "             pre_dispatch='2*n_jobs', refit=True, return_train_score=False,\n",
       "             scoring=None, verbose=0)"
      ]
     },
     "execution_count": 120,
     "metadata": {},
     "output_type": "execute_result"
    }
   ],
   "source": [
    "from sklearn.model_selection import GridSearchCV\n",
    "pipe = Pipeline([\n",
    "    ('process', process_pipeline),\n",
    "    ('model', LogisticRegression()),\n",
    "])\n",
    "para_grid = [{'model__C': [0.1, 1, 10, 100]}]\n",
    "grid_search = GridSearchCV(pipe, para_grid, cv=10, n_jobs=4)\n",
    "grid_search.fit(X_train_df, y_train)"
   ]
  },
  {
   "cell_type": "code",
   "execution_count": 108,
   "metadata": {},
   "outputs": [
    {
     "name": "stdout",
     "output_type": "stream",
     "text": [
      "Best accuracy is:  0.8073345259391771\n",
      "Best parameter is:  {'model__C': 10}\n"
     ]
    }
   ],
   "source": [
    "print(\"Best accuracy is: \", grid_search.best_score_)\n",
    "print(\"Best parameter is: \", grid_search.best_params_)"
   ]
  },
  {
   "cell_type": "code",
   "execution_count": 121,
   "metadata": {},
   "outputs": [
    {
     "name": "stderr",
     "output_type": "stream",
     "text": [
      "/Users/pengl/anaconda3/lib/python3.7/site-packages/joblib/externals/loky/process_executor.py:706: UserWarning: A worker stopped while some jobs were given to the executor. This can be caused by a too short worker timeout or by a memory leak.\n",
      "  \"timeout or by a memory leak.\", UserWarning\n"
     ]
    },
    {
     "name": "stdout",
     "output_type": "stream",
     "text": [
      "Best accuracy is:  0.9084973166368515\n",
      "Best parameter is:  {'model__max_features': 'log2', 'model__n_estimators': 700}\n"
     ]
    }
   ],
   "source": [
    "\"\"\"\n",
    "\n",
    "Must pay attention for GridSearchCV\n",
    "1. fit(X,y)    X should be df\n",
    "2. param_grid must indicate which estimator does the parameter belongs. e.g., it belongst to model or process \n",
    "    use double -- connect estimator and parameters   'model _ _ C'\n",
    "\n",
    "\"\"\"\n",
    "\n",
    "from sklearn.model_selection import GridSearchCV\n",
    "\n",
    "pipe = Pipeline([\n",
    "    ('process', process_pipeline),\n",
    "    ('model', RandomForestClassifier(n_jobs=-1,max_features= 'sqrt' ,n_estimators=50, oob_score = True)),\n",
    "])\n",
    "\n",
    "para_grid = [{ \n",
    "    'model__n_estimators': [200, 700],\n",
    "    'model__max_features': ['auto', 'sqrt', 'log2']\n",
    "}]\n",
    "\n",
    "grid_search = GridSearchCV(pipe, para_grid, cv=5, n_jobs=4)\n",
    "grid_search.fit(X_train_df, y_train)\n",
    "\n",
    "print(\"Best accuracy is: \", grid_search.best_score_)\n",
    "print(\"Best parameter is: \", grid_search.best_params_)"
   ]
  },
  {
   "cell_type": "code",
   "execution_count": null,
   "metadata": {},
   "outputs": [],
   "source": []
  }
 ],
 "metadata": {
  "kernelspec": {
   "display_name": "Python 3",
   "language": "python",
   "name": "python3"
  },
  "language_info": {
   "codemirror_mode": {
    "name": "ipython",
    "version": 3
   },
   "file_extension": ".py",
   "mimetype": "text/x-python",
   "name": "python",
   "nbconvert_exporter": "python",
   "pygments_lexer": "ipython3",
   "version": "3.7.3"
  }
 },
 "nbformat": 4,
 "nbformat_minor": 2
}
